{
 "cells": [
  {
   "cell_type": "code",
   "execution_count": 2,
   "metadata": {},
   "outputs": [
    {
     "name": "stderr",
     "output_type": "stream",
     "text": [
      "/opt/homebrew/anaconda3/envs/openmm/lib/python3.12/site-packages/Bio/PDB/PDBParser.py:384: PDBConstructionWarning: Ignoring unrecognized record 'END' at line 536\n",
      "  warnings.warn(\n"
     ]
    }
   ],
   "source": [
    "from Bio.PDB import PDBParser, PDBIO\n",
    "\n",
    "# Parse the PDB file\n",
    "parser = PDBParser()\n",
    "structure = parser.get_structure('6Y97', '6y97_epitopes_plus.pdb')\n",
    "\n",
    "# Assert that there are two chains\n",
    "assert len(list(structure.get_chains())) == 2, \"There should be exactly two chains in the structure.\"\n",
    "\n",
    "# Get the two chains\n",
    "chains = list(structure.get_chains())\n",
    "\n",
    "# Re-index residues from 1 to N and set chain IDs to 'A' and 'B'\n",
    "for chain_id, chain in zip(['A', 'B'], chains):\n",
    "    for i, residue in enumerate(chain.get_residues(), start=1):\n",
    "        residue.id = (' ', i, ' ')\n",
    "    chain.id = chain_id\n",
    "\n",
    "# Save the modified structure to a new PDB file\n",
    "io = PDBIO()\n",
    "io.set_structure(structure)\n",
    "io.save('6Y97_reindexed.pdb')\n"
   ]
  },
  {
   "cell_type": "code",
   "execution_count": 13,
   "metadata": {},
   "outputs": [
    {
     "name": "stdout",
     "output_type": "stream",
     "text": [
      ">Chain A\n",
      "FMRESKTLGAVQIMNGLFHIALGGLLMIPAGIYAPICVTVWYPLWGGIMYIISGSLLAATEKNSRKCLVKGKMIMNSLSLFAAISGMILSIMDILNIKISHFLKMESLNFIRAHTPYINIYNCEPANPSEKNSPSTQYCYSIQSLFLGILSVMLIFAFFQELVIAGIVE\n",
      ">Chain B\n",
      "FMRESKTLGAVQIMNGLFHIALGGLLMIPAGIYAPICVTVWYPLWGGIMYIISGSLLAATEKNSRKCLVKGKMIMNSLSLFAAISGMILSIMDILNIKISHFLKMESLNFIRAHTPYINIYNCEPANPSEKNSPSTQYCYSIQSLFLGILSVMLIFAFFQELVIAGIVE\n"
     ]
    }
   ],
   "source": [
    "from Bio.PDB import PDBParser, PDBIO\n",
    "from Bio.SeqUtils import seq1\n",
    "\n",
    "# Parse the PDB file\n",
    "parser = PDBParser()\n",
    "structure = parser.get_structure('6Y97', '6Y97.pdb')\n",
    "\n",
    "# Assert that there are two chains\n",
    "assert len(list(structure.get_chains())) == 2, \"There should be exactly two chains in the structure.\"\n",
    "\n",
    "for chain in structure.get_chains():\n",
    "    print(f\">Chain {chain.id}\")\n",
    "    sequence = \"\"\n",
    "    for residue in chain.get_residues():\n",
    "        resname = residue.get_resname()\n",
    "        sequence += seq1(resname)\n",
    "    print(sequence)"
   ]
  },
  {
   "cell_type": "code",
   "execution_count": 24,
   "metadata": {},
   "outputs": [
    {
     "name": "stdout",
     "output_type": "stream",
     "text": [
      "[1, 2, 3, 4, 5, 6, 7, 8, 9, 10, 11, 12, 13, 14, 15, 16, 17, 18, 19, 20, 21, 22, 23, 24, 25, 26, 27, 28, 29, 30, 31, 32, 33, 34, 35, 36, 37, 38, 39, 40, 41, 42, 43, 44, 45, 46, 47, 48, 49, 50, 51, 52, 53, 54, 55, 56, 57, 58, 59, 60, 61, 62, 63, 64, 65, 66, 67, 68, 69, 70, 71, 72, 73, 74, 75, 76, 77, 78, 79, 80, 81, 82, 83, 84, 85, 86, 87, 88, 89, 90, 91, 92, 93, 94, 95, 96, 97, 98, 99, 100, 101, 102, 103, 104, 105, 106, 107, 108, 109, 110, 111, 112, 113, 114, 115, 116, 117, 118, 119, 120, 121, 122, 123, 124, 125, 126, 127, 128, 129, 130, 131, 132, 133, 134, 135, 136, 137, 138, 139, 140, 141, 142, 143, 144, 145, 146, 147, 148, 149, 150, 151, 152, 153, 154, 155, 156, 157, 158, 159, 160, 161, 162, 163, 164, 165, 166, 167, 168, 169, 170, 171, 172, 173, 174, 175, 176, 177, 178, 179, 180, 181, 182, 183, 184, 185, 186, 187, 188, 189, 190, 191, 192, 193, 194, 451, 452, 453, 454, 455, 456, 457, 458, 459, 460, 461, 462, 463, 464, 465, 466, 467, 468, 469, 470, 471, 472, 473, 474, 475, 476, 477, 478, 479, 480, 481, 482, 483, 484, 485, 486, 487, 488, 489, 490, 491, 492, 493, 494, 495, 496, 497, 498, 499, 500, 501, 502, 503, 504, 505, 506, 507, 508, 509, 510, 511, 512, 513, 514, 515, 516, 517, 518, 519, 520, 521, 522, 523, 524, 525, 526, 527, 528, 529, 530, 531, 532, 533, 534, 535, 536, 537, 538, 539, 540, 541, 542, 543, 544, 545, 546, 547, 548, 549, 550, 551, 552, 553, 554, 555, 556, 557, 558, 559, 560, 561, 562, 563, 564, 565, 566, 567, 568, 569, 570, 571, 572, 573, 574, 575, 576, 577, 578, 579, 580, 581, 582, 583, 584, 585, 586, 587, 588, 589, 590, 591, 592, 593, 594, 595, 596, 597, 598, 599, 600, 601, 602, 603, 604, 605, 606, 607, 608, 609, 610, 611, 612, 613, 614, 615, 616, 617, 618, 619, 620, 621, 622, 623, 624, 625, 626, 627, 628, 629, 630, 631, 632, 633, 634, 635, 636, 637, 638, 639, 640, 641, 642, 643, 644, 901, 902, 903, 904, 905, 906, 907, 908, 909, 910, 911, 912, 913, 914, 915, 916, 917, 918, 919, 920, 921, 922, 923, 924, 925, 926, 927, 928, 929, 930, 931, 932, 933, 934, 935, 936, 937, 938, 939, 940, 941, 942, 943, 944, 945, 946, 947, 948, 949, 950, 951, 952, 953, 954, 955, 956, 957, 958, 959, 960, 961, 962, 963, 964, 965, 966, 967, 968, 969, 970, 971, 972, 973, 974, 975, 976, 977, 978, 979, 980]\n"
     ]
    }
   ],
   "source": [
    "\n",
    "CD20_A = \"FMRESKTLGAVQIMNGLFHIALGGLLMIPAGIYAPICVTVWYPLWGGIMYIISGSLLAATEKNSRKCLVKGKMIMNSLSLFAAISGMILSIMDILNIKISHFLKMESLNFIRAHTPYINIYNCEPANPSEKNSPSTQYCYSIQSLFLGILSVMLIFAFFQELVIAGIVE\"\n",
    "\n",
    "CD20_B = \"FMRESKTLGAVQIMNGLFHIALGGLLMIPAGIYAPICVTVWYPLWGGIMYIISGSLLAATEKNSRKCLVKGKMIMNSLSLFAAISGMILSIMDILNIKISHFLKMESLNFIRAHTPYINIYNCEPANPSEKNSPSTQYCYSIQSLFLGILSVMLIFAFFQELVIAGIVE\"\n",
    "\n",
    "binder = \"MELEKKIEELLKLLEELAEKGNEEEKKICEEAKEAIEEVKDDEEAREICARACDILKKEKDFEVKLSTVKHLLNYLKRRK\"\n",
    "\n",
    "# join all sequences by :\n",
    "linker_sequence = \"G\" * 25\n",
    "sequence = CD20_A + linker_sequence + CD20_B + linker_sequence + binder\n",
    "\n",
    "multimer_gap = 256\n",
    "\n",
    "residue_indices = list(range(1, len(sequence) + 1))\n",
    "\n",
    "\n",
    "residue_indices[len(CD20_A) + len(linker_sequence):] = [\n",
    "    i + multimer_gap for i in residue_indices[len(CD20_A) + len(linker_sequence):]\n",
    "]\n",
    "\n",
    "residue_indices[len(CD20_A) + len(linker_sequence) + len(CD20_B) + len(linker_sequence):] = [\n",
    "    i + multimer_gap for i in residue_indices[len(CD20_A) + len(linker_sequence) + len(CD20_B) + len(linker_sequence):]\n",
    "]\n",
    "print(residue_indices)"
   ]
  },
  {
   "cell_type": "code",
   "execution_count": 1,
   "metadata": {},
   "outputs": [
    {
     "ename": "OSError",
     "evalue": "Sorry, no loader for filename=traj.out (extension=.out) was found. I can only load files with extensions in dict_keys(['.inpcrd', '.restrt', '.rst7', '.ncrst', '.arc', '.dcd', '.dtr', '.stk', '.pdb.gz', '.pdb', '.gro', '.hdf5', '.h5', '.lammpstrj', '.lh5', '.crd', '.mdcrd', '.ncdf', '.netcdf', '.nc', '.cif', '.pdbx', '.trr', '.xtc', '.xyz.gz', '.xyz', '.gsd', '.hoomdxml', '.mol2', '.xml'])",
     "output_type": "error",
     "traceback": [
      "\u001b[0;31m---------------------------------------------------------------------------\u001b[0m",
      "\u001b[0;31mKeyError\u001b[0m                                  Traceback (most recent call last)",
      "File \u001b[0;32m/opt/homebrew/anaconda3/envs/openmm/lib/python3.12/site-packages/mdtraj/core/trajectory.py:404\u001b[0m, in \u001b[0;36mload\u001b[0;34m(filename_or_filenames, discard_overlapping_frames, **kwargs)\u001b[0m\n\u001b[1;32m    402\u001b[0m \u001b[38;5;28;01mtry\u001b[39;00m:\n\u001b[1;32m    403\u001b[0m     \u001b[38;5;66;03m# loader = _LoaderRegistry[extension][0]\u001b[39;00m\n\u001b[0;32m--> 404\u001b[0m     loader \u001b[38;5;241m=\u001b[39m \u001b[43mFormatRegistry\u001b[49m\u001b[38;5;241;43m.\u001b[39;49m\u001b[43mloaders\u001b[49m\u001b[43m[\u001b[49m\u001b[43mextension\u001b[49m\u001b[43m]\u001b[49m\n\u001b[1;32m    405\u001b[0m \u001b[38;5;28;01mexcept\u001b[39;00m \u001b[38;5;167;01mKeyError\u001b[39;00m:\n",
      "\u001b[0;31mKeyError\u001b[0m: '.out'",
      "\nDuring handling of the above exception, another exception occurred:\n",
      "\u001b[0;31mOSError\u001b[0m                                   Traceback (most recent call last)",
      "Cell \u001b[0;32mIn[1], line 4\u001b[0m\n\u001b[1;32m      1\u001b[0m \u001b[38;5;66;03m# open traj.out which is a dcd file and compute how many frames there are\u001b[39;00m\n\u001b[1;32m      2\u001b[0m \u001b[38;5;28;01mimport\u001b[39;00m \u001b[38;5;21;01mmdtraj\u001b[39;00m \u001b[38;5;28;01mas\u001b[39;00m \u001b[38;5;21;01mmd\u001b[39;00m\n\u001b[0;32m----> 4\u001b[0m traj \u001b[38;5;241m=\u001b[39m \u001b[43mmd\u001b[49m\u001b[38;5;241;43m.\u001b[39;49m\u001b[43mload\u001b[49m\u001b[43m(\u001b[49m\u001b[38;5;124;43m'\u001b[39;49m\u001b[38;5;124;43mtraj.out\u001b[39;49m\u001b[38;5;124;43m'\u001b[39;49m\u001b[43m,\u001b[49m\u001b[43m \u001b[49m\u001b[43mtop\u001b[49m\u001b[38;5;241;43m=\u001b[39;49m\u001b[38;5;124;43m'\u001b[39;49m\u001b[38;5;124;43m6Y97_reindexed.pdb\u001b[39;49m\u001b[38;5;124;43m'\u001b[39;49m\u001b[43m)\u001b[49m\n\u001b[1;32m      5\u001b[0m \u001b[38;5;28mprint\u001b[39m(traj\u001b[38;5;241m.\u001b[39mn_frames)\n",
      "File \u001b[0;32m/opt/homebrew/anaconda3/envs/openmm/lib/python3.12/site-packages/mdtraj/core/trajectory.py:406\u001b[0m, in \u001b[0;36mload\u001b[0;34m(filename_or_filenames, discard_overlapping_frames, **kwargs)\u001b[0m\n\u001b[1;32m    404\u001b[0m     loader \u001b[38;5;241m=\u001b[39m FormatRegistry\u001b[38;5;241m.\u001b[39mloaders[extension]\n\u001b[1;32m    405\u001b[0m \u001b[38;5;28;01mexcept\u001b[39;00m \u001b[38;5;167;01mKeyError\u001b[39;00m:\n\u001b[0;32m--> 406\u001b[0m     \u001b[38;5;28;01mraise\u001b[39;00m \u001b[38;5;167;01mOSError\u001b[39;00m(\n\u001b[1;32m    407\u001b[0m         \u001b[38;5;124mf\u001b[39m\u001b[38;5;124m\"\u001b[39m\u001b[38;5;124mSorry, no loader for filename=\u001b[39m\u001b[38;5;132;01m{\u001b[39;00mfilename_or_filenames[\u001b[38;5;241m0\u001b[39m]\u001b[38;5;132;01m}\u001b[39;00m\u001b[38;5;124m (extension=\u001b[39m\u001b[38;5;132;01m{\u001b[39;00mextension\u001b[38;5;132;01m}\u001b[39;00m\u001b[38;5;124m) \u001b[39m\u001b[38;5;124m\"\u001b[39m\n\u001b[1;32m    408\u001b[0m         \u001b[38;5;124m\"\u001b[39m\u001b[38;5;124mwas found. I can only load files \u001b[39m\u001b[38;5;124m\"\u001b[39m\n\u001b[1;32m    409\u001b[0m         \u001b[38;5;124mf\u001b[39m\u001b[38;5;124m\"\u001b[39m\u001b[38;5;124mwith extensions in \u001b[39m\u001b[38;5;132;01m{\u001b[39;00mFormatRegistry\u001b[38;5;241m.\u001b[39mloaders\u001b[38;5;241m.\u001b[39mkeys()\u001b[38;5;132;01m}\u001b[39;00m\u001b[38;5;124m\"\u001b[39m,\n\u001b[1;32m    410\u001b[0m     )\n\u001b[1;32m    412\u001b[0m \u001b[38;5;28;01mif\u001b[39;00m loader\u001b[38;5;241m.\u001b[39m\u001b[38;5;18m__name__\u001b[39m \u001b[38;5;129;01mnot\u001b[39;00m \u001b[38;5;129;01min\u001b[39;00m [\u001b[38;5;124m\"\u001b[39m\u001b[38;5;124mload_dtr\u001b[39m\u001b[38;5;124m\"\u001b[39m]:\n\u001b[1;32m    413\u001b[0m     _assert_files_exist(filename_or_filenames)\n",
      "\u001b[0;31mOSError\u001b[0m: Sorry, no loader for filename=traj.out (extension=.out) was found. I can only load files with extensions in dict_keys(['.inpcrd', '.restrt', '.rst7', '.ncrst', '.arc', '.dcd', '.dtr', '.stk', '.pdb.gz', '.pdb', '.gro', '.hdf5', '.h5', '.lammpstrj', '.lh5', '.crd', '.mdcrd', '.ncdf', '.netcdf', '.nc', '.cif', '.pdbx', '.trr', '.xtc', '.xyz.gz', '.xyz', '.gsd', '.hoomdxml', '.mol2', '.xml'])"
     ]
    }
   ],
   "source": [
    "# open traj.out which is a dcd file and compute how many frames there are\n",
    "import mdtraj as md\n",
    "\n",
    "traj = md.load('traj.out', top='6Y97_reindexed.pdb')\n",
    "print(traj.n_frames)"
   ]
  },
  {
   "cell_type": "code",
   "execution_count": 3,
   "metadata": {},
   "outputs": [
    {
     "name": "stdout",
     "output_type": "stream",
     "text": [
      "Atom indices in the first and last residues of each chain: [0, 1, 2, 3, 4, 5, 6, 7, 257, 258, 259, 260, 261, 262, 263, 264, 265, 266, 267, 268, 269, 270, 271, 272, 273, 523, 524, 525, 526, 527, 528, 529, 530, 531]\n"
     ]
    }
   ],
   "source": [
    "from openmm.app import PDBFile\n",
    "\n",
    "pdb = PDBFile('6Y97_reindexed.pdb')\n",
    "\n",
    "first_last_atom_indices = []\n",
    "\n",
    "for chain in pdb.topology.chains():\n",
    "    residues = list(chain.residues())\n",
    "    if len(residues) > 0:\n",
    "        first_residue = residues[0]\n",
    "        last_residue = residues[-1]\n",
    "        \n",
    "        for atom in first_residue.atoms():\n",
    "            first_last_atom_indices.append(atom.index)\n",
    "        \n",
    "        for atom in last_residue.atoms():\n",
    "            first_last_atom_indices.append(atom.index)\n",
    "\n",
    "print(\"Atom indices in the first and last residues of each chain:\", first_last_atom_indices)\n"
   ]
  },
  {
   "cell_type": "code",
   "execution_count": null,
   "metadata": {},
   "outputs": [],
   "source": []
  }
 ],
 "metadata": {
  "kernelspec": {
   "display_name": "openmm",
   "language": "python",
   "name": "python3"
  },
  "language_info": {
   "codemirror_mode": {
    "name": "ipython",
    "version": 3
   },
   "file_extension": ".py",
   "mimetype": "text/x-python",
   "name": "python",
   "nbconvert_exporter": "python",
   "pygments_lexer": "ipython3",
   "version": "3.12.4"
  }
 },
 "nbformat": 4,
 "nbformat_minor": 2
}
