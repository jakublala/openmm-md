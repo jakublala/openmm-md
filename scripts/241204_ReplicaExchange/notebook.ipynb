{
 "cells": [
  {
   "cell_type": "code",
   "execution_count": 2,
   "metadata": {},
   "outputs": [
    {
     "name": "stderr",
     "output_type": "stream",
     "text": [
      "Warning on use of the timeseries module: If the inherent timescales of the system are long compared to those being analyzed, this statistical inefficiency may be an underestimate.  The estimate presumes the use of many statistically independent samples.  Tests should be performed to assess whether this condition is satisfied.   Be cautious in the interpretation of the data.\n",
      "\n",
      "****** PyMBAR will use 64-bit JAX! *******\n",
      "* JAX is currently set to 32-bit bitsize *\n",
      "* which is its default.                  *\n",
      "*                                        *\n",
      "* PyMBAR requires 64-bit mode and WILL   *\n",
      "* enable JAX's 64-bit mode when called.  *\n",
      "*                                        *\n",
      "* This MAY cause problems with other     *\n",
      "* Uses of JAX in the same code.          *\n",
      "******************************************\n",
      "\n"
     ]
    }
   ],
   "source": [
    "from openmm import unit\n",
    "from openmmtools import testsystems, states, mcmc\n",
    "from openmmtools.multistate import ParallelTemperingSampler, MultiStateReporter\n",
    "import tempfile\n",
    "import os"
   ]
  },
  {
   "cell_type": "code",
   "execution_count": 16,
   "metadata": {},
   "outputs": [],
   "source": [
    "from openmm.app import *\n",
    "\n",
    "pdb = PDBFile('/home/jakub/phd/openmm-md/data/241010_FoldingUponBinding/output/SUMO-1C/241128-MetaD/sumo1c_equilibrated.pdb')\n",
    "\n",
    "forcefield = ForceField('amber14-all.xml', 'amber14/tip3pfb.xml')\n",
    "\n",
    "system = forcefield.createSystem(\n",
    "    topology=pdb.topology, \n",
    "    nonbondedMethod=PME,\n",
    "    nonbondedCutoff=1*unit.nanometer,\n",
    "    constraints=HBonds\n",
    "    )"
   ]
  },
  {
   "cell_type": "code",
   "execution_count": 17,
   "metadata": {},
   "outputs": [],
   "source": [
    "n_replicas = 4  # Number of temperature replicas.\n",
    "T_min = 300.0 * unit.kelvin  # Minimum temperature.\n",
    "T_max = 600.0 * unit.kelvin  # Maximum temperature.\n",
    "\n",
    "\n",
    "# thermodynamic state holds information on ensemble parameters like temperture and pressure\n",
    "reference_state = states.ThermodynamicState(system=system, temperature=T_min)\n"
   ]
  },
  {
   "cell_type": "code",
   "execution_count": 18,
   "metadata": {},
   "outputs": [],
   "source": [
    "move = mcmc.GHMCMove(timestep=2.0*unit.femtoseconds, n_steps=50)"
   ]
  },
  {
   "cell_type": "code",
   "execution_count": 19,
   "metadata": {},
   "outputs": [
    {
     "name": "stderr",
     "output_type": "stream",
     "text": [
      "Warning: The openmmtools.multistate API is experimental and may change in future releases\n"
     ]
    }
   ],
   "source": [
    "storage_path = 'replica_exchange.nc'\n",
    "reporter = MultiStateReporter(storage_path, checkpoint_interval=10)"
   ]
  },
  {
   "cell_type": "code",
   "execution_count": 31,
   "metadata": {},
   "outputs": [
    {
     "name": "stderr",
     "output_type": "stream",
     "text": [
      "Warning: The openmmtools.multistate API is experimental and may change in future releases\n"
     ]
    },
    {
     "ename": "RuntimeError",
     "evalue": "Storage file replica_exchange.nc already exists; cowardly refusing to overwrite.",
     "output_type": "error",
     "traceback": [
      "\u001b[0;31m---------------------------------------------------------------------------\u001b[0m",
      "\u001b[0;31mRuntimeError\u001b[0m                              Traceback (most recent call last)",
      "Cell \u001b[0;32mIn[31], line 12\u001b[0m\n\u001b[1;32m      2\u001b[0m sampler_state \u001b[38;5;241m=\u001b[39m states\u001b[38;5;241m.\u001b[39mSamplerState(\n\u001b[1;32m      3\u001b[0m     positions\u001b[38;5;241m=\u001b[39mpdb\u001b[38;5;241m.\u001b[39mpositions,\n\u001b[1;32m      4\u001b[0m     box_vectors\u001b[38;5;241m=\u001b[39msystem\u001b[38;5;241m.\u001b[39mgetDefaultPeriodicBoxVectors()\n\u001b[1;32m      5\u001b[0m )\n\u001b[1;32m      7\u001b[0m simulation \u001b[38;5;241m=\u001b[39m ParallelTemperingSampler(\n\u001b[1;32m      8\u001b[0m     mcmc_moves\u001b[38;5;241m=\u001b[39mmove, \n\u001b[1;32m      9\u001b[0m     number_of_iterations\u001b[38;5;241m=\u001b[39m\u001b[38;5;241m2\u001b[39m\n\u001b[1;32m     10\u001b[0m     )\n\u001b[0;32m---> 12\u001b[0m \u001b[43msimulation\u001b[49m\u001b[38;5;241;43m.\u001b[39;49m\u001b[43mcreate\u001b[49m\u001b[43m(\u001b[49m\n\u001b[1;32m     13\u001b[0m \u001b[43m    \u001b[49m\u001b[43mthermodynamic_state\u001b[49m\u001b[38;5;241;43m=\u001b[39;49m\u001b[43mreference_state\u001b[49m\u001b[43m,\u001b[49m\n\u001b[1;32m     14\u001b[0m \u001b[43m    \u001b[49m\u001b[43msampler_states\u001b[49m\u001b[38;5;241;43m=\u001b[39;49m\u001b[43m[\u001b[49m\u001b[43msampler_state\u001b[49m\u001b[43m]\u001b[49m\u001b[43m,\u001b[49m\n\u001b[1;32m     15\u001b[0m \u001b[43m    \u001b[49m\u001b[43mstorage\u001b[49m\u001b[38;5;241;43m=\u001b[39;49m\u001b[43mreporter\u001b[49m\u001b[43m,\u001b[49m\u001b[43m \u001b[49m\n\u001b[1;32m     16\u001b[0m \u001b[43m    \u001b[49m\u001b[43mmin_temperature\u001b[49m\u001b[38;5;241;43m=\u001b[39;49m\u001b[43mT_min\u001b[49m\u001b[43m,\u001b[49m\n\u001b[1;32m     17\u001b[0m \u001b[43m    \u001b[49m\u001b[43mmax_temperature\u001b[49m\u001b[38;5;241;43m=\u001b[39;49m\u001b[43mT_max\u001b[49m\u001b[43m,\u001b[49m\u001b[43m \u001b[49m\n\u001b[1;32m     18\u001b[0m \u001b[43m    \u001b[49m\u001b[43mn_temperatures\u001b[49m\u001b[38;5;241;43m=\u001b[39;49m\u001b[43mn_replicas\u001b[49m\u001b[43m)\u001b[49m\n\u001b[1;32m     21\u001b[0m simulation\u001b[38;5;241m.\u001b[39mrun()\n",
      "File \u001b[0;32m~/anaconda3/envs/openmm/lib/python3.12/site-packages/openmmtools/multistate/paralleltempering.py:173\u001b[0m, in \u001b[0;36mParallelTemperingSampler.create\u001b[0;34m(self, thermodynamic_state, sampler_states, storage, min_temperature, max_temperature, n_temperatures, temperatures, **kwargs)\u001b[0m\n\u001b[1;32m    170\u001b[0m     state\u001b[38;5;241m.\u001b[39mtemperature \u001b[38;5;241m=\u001b[39m temperature\n\u001b[1;32m    172\u001b[0m \u001b[38;5;66;03m# Initialize replica-exchange simulation.\u001b[39;00m\n\u001b[0;32m--> 173\u001b[0m \u001b[38;5;28;43msuper\u001b[39;49m\u001b[43m(\u001b[49m\u001b[43mParallelTemperingSampler\u001b[49m\u001b[43m,\u001b[49m\u001b[43m \u001b[49m\u001b[38;5;28;43mself\u001b[39;49m\u001b[43m)\u001b[49m\u001b[38;5;241;43m.\u001b[39;49m\u001b[43mcreate\u001b[49m\u001b[43m(\u001b[49m\u001b[43mthermodynamic_states\u001b[49m\u001b[43m,\u001b[49m\u001b[43m \u001b[49m\u001b[43msampler_states\u001b[49m\u001b[43m,\u001b[49m\u001b[43m \u001b[49m\u001b[43mstorage\u001b[49m\u001b[38;5;241;43m=\u001b[39;49m\u001b[43mstorage\u001b[49m\u001b[43m,\u001b[49m\u001b[43m \u001b[49m\u001b[38;5;241;43m*\u001b[39;49m\u001b[38;5;241;43m*\u001b[39;49m\u001b[43mkwargs\u001b[49m\u001b[43m)\u001b[49m\n",
      "File \u001b[0;32m~/anaconda3/envs/openmm/lib/python3.12/site-packages/openmmtools/multistate/multistatesampler.py:590\u001b[0m, in \u001b[0;36mMultiStateSampler.create\u001b[0;34m(self, thermodynamic_states, sampler_states, storage, initial_thermodynamic_states, unsampled_thermodynamic_states, metadata)\u001b[0m\n\u001b[1;32m    585\u001b[0m \u001b[38;5;66;03m# Check if netcdf files exist. This is run only on MPI node 0 and\u001b[39;00m\n\u001b[1;32m    586\u001b[0m \u001b[38;5;66;03m# broadcasted. This is to avoid the case where the other nodes\u001b[39;00m\n\u001b[1;32m    587\u001b[0m \u001b[38;5;66;03m# arrive to this line after node 0 has already created the storage\u001b[39;00m\n\u001b[1;32m    588\u001b[0m \u001b[38;5;66;03m# file, causing an error.\u001b[39;00m\n\u001b[1;32m    589\u001b[0m \u001b[38;5;28;01mif\u001b[39;00m mpiplus\u001b[38;5;241m.\u001b[39mrun_single_node(\u001b[38;5;241m0\u001b[39m, \u001b[38;5;28mself\u001b[39m\u001b[38;5;241m.\u001b[39m_reporter\u001b[38;5;241m.\u001b[39mstorage_exists, broadcast_result\u001b[38;5;241m=\u001b[39m\u001b[38;5;28;01mTrue\u001b[39;00m):\n\u001b[0;32m--> 590\u001b[0m     \u001b[38;5;28;01mraise\u001b[39;00m \u001b[38;5;167;01mRuntimeError\u001b[39;00m(\u001b[38;5;124m'\u001b[39m\u001b[38;5;124mStorage file \u001b[39m\u001b[38;5;132;01m{}\u001b[39;00m\u001b[38;5;124m already exists; cowardly \u001b[39m\u001b[38;5;124m'\u001b[39m\n\u001b[1;32m    591\u001b[0m                        \u001b[38;5;124m'\u001b[39m\u001b[38;5;124mrefusing to overwrite.\u001b[39m\u001b[38;5;124m'\u001b[39m\u001b[38;5;241m.\u001b[39mformat(\u001b[38;5;28mself\u001b[39m\u001b[38;5;241m.\u001b[39m_reporter\u001b[38;5;241m.\u001b[39mfilepath))\n\u001b[1;32m    593\u001b[0m \u001b[38;5;66;03m# Make sure online analysis interval is a multiples of the reporter's checkpoint interval\u001b[39;00m\n\u001b[1;32m    594\u001b[0m \u001b[38;5;66;03m# this avoids having redundant iteration information in the real time yaml files\u001b[39;00m\n\u001b[1;32m    595\u001b[0m \u001b[38;5;66;03m# only check if self.online_analysis_interval is set\u001b[39;00m\n\u001b[1;32m    596\u001b[0m \u001b[38;5;28;01mif\u001b[39;00m \u001b[38;5;28mself\u001b[39m\u001b[38;5;241m.\u001b[39monline_analysis_interval:\n",
      "\u001b[0;31mRuntimeError\u001b[0m: Storage file replica_exchange.nc already exists; cowardly refusing to overwrite."
     ]
    }
   ],
   "source": [
    "# Create sampler state with both positions and box vectors\n",
    "sampler_state = states.SamplerState(\n",
    "    positions=pdb.positions,\n",
    "    box_vectors=system.getDefaultPeriodicBoxVectors()\n",
    ")\n",
    "\n",
    "simulation = ParallelTemperingSampler(\n",
    "    mcmc_moves=move, \n",
    "    number_of_iterations=2\n",
    "    )\n",
    "\n",
    "simulation.create(\n",
    "    thermodynamic_state=reference_state,\n",
    "    sampler_states=[sampler_state],\n",
    "    storage=reporter, \n",
    "    min_temperature=T_min,\n",
    "    max_temperature=T_max, \n",
    "    n_temperatures=n_replicas)\n",
    "\n",
    "\n",
    "simulation.run()\n"
   ]
  },
  {
   "cell_type": "code",
   "execution_count": 29,
   "metadata": {},
   "outputs": [
    {
     "name": "stderr",
     "output_type": "stream",
     "text": [
      "Warning: The openmmtools.multistate API is experimental and may change in future releases\n"
     ]
    },
    {
     "data": {
      "text/plain": [
       "Status(iteration=2, target_error=None, is_completed=True)"
      ]
     },
     "execution_count": 29,
     "metadata": {},
     "output_type": "execute_result"
    }
   ],
   "source": [
    "simulation.read_status('replica_exchange.nc')"
   ]
  },
  {
   "cell_type": "code",
   "execution_count": 30,
   "metadata": {},
   "outputs": [
    {
     "name": "stderr",
     "output_type": "stream",
     "text": [
      "Warning: The openmmtools.multistate API is experimental and may change in future releases\n",
      "/home/jakub/anaconda3/envs/openmm/lib/python3.12/site-packages/openmmtools/multistate/multistateanalyzer.py:960: SyntaxWarning: invalid escape sequence '\\l'\n",
      "  \"\"\"\n",
      "/home/jakub/anaconda3/envs/openmm/lib/python3.12/site-packages/openmmtools/multistate/multistateanalyzer.py:995: SyntaxWarning: invalid escape sequence '\\s'\n",
      "  \"\"\"\n",
      "/home/jakub/anaconda3/envs/openmm/lib/python3.12/site-packages/openmmtools/multistate/multistateanalyzer.py:1415: SyntaxWarning: invalid escape sequence '\\l'\n",
      "  \"\"\"\n",
      "/home/jakub/anaconda3/envs/openmm/lib/python3.12/site-packages/openmmtools/multistate/multistateanalyzer.py:1480: SyntaxWarning: invalid escape sequence '\\s'\n",
      "  \"\"\"Return an MBAR-ready decorrelated energy matrix.\n"
     ]
    },
    {
     "ename": "ValueError",
     "evalue": "reporter must be a MultiStateReporter instance",
     "output_type": "error",
     "traceback": [
      "\u001b[0;31m---------------------------------------------------------------------------\u001b[0m",
      "\u001b[0;31mValueError\u001b[0m                                Traceback (most recent call last)",
      "Cell \u001b[0;32mIn[30], line 3\u001b[0m\n\u001b[1;32m      1\u001b[0m \u001b[38;5;28;01mfrom\u001b[39;00m \u001b[38;5;21;01mopenmmtools\u001b[39;00m\u001b[38;5;21;01m.\u001b[39;00m\u001b[38;5;21;01mmultistate\u001b[39;00m \u001b[38;5;28;01mimport\u001b[39;00m ParallelTemperingAnalyzer\n\u001b[0;32m----> 3\u001b[0m analyzer \u001b[38;5;241m=\u001b[39m \u001b[43mParallelTemperingAnalyzer\u001b[49m\u001b[43m(\u001b[49m\u001b[43mstorage_path\u001b[49m\u001b[43m)\u001b[49m\n",
      "File \u001b[0;32m~/anaconda3/envs/openmm/lib/python3.12/site-packages/openmmtools/multistate/multistateanalyzer.py:1209\u001b[0m, in \u001b[0;36mMultiStateSamplerAnalyzer.__init__\u001b[0;34m(self, unbias_restraint, restraint_energy_cutoff, restraint_distance_cutoff, n_equilibration_iterations, statistical_inefficiency, max_subset, *args, **kwargs)\u001b[0m\n\u001b[1;32m   1206\u001b[0m logger\u001b[38;5;241m.\u001b[39mwarn(\u001b[38;5;124m'\u001b[39m\u001b[38;5;124mWarning: The openmmtools.multistate API is experimental and may change in future releases\u001b[39m\u001b[38;5;124m'\u001b[39m)\n\u001b[1;32m   1208\u001b[0m \u001b[38;5;66;03m# super() calls clear() that initialize the cached variables.\u001b[39;00m\n\u001b[0;32m-> 1209\u001b[0m \u001b[38;5;28;43msuper\u001b[39;49m\u001b[43m(\u001b[49m\u001b[43m)\u001b[49m\u001b[38;5;241;43m.\u001b[39;49m\u001b[38;5;21;43m__init__\u001b[39;49m\u001b[43m(\u001b[49m\u001b[38;5;241;43m*\u001b[39;49m\u001b[43margs\u001b[49m\u001b[43m,\u001b[49m\u001b[43m \u001b[49m\u001b[38;5;241;43m*\u001b[39;49m\u001b[38;5;241;43m*\u001b[39;49m\u001b[43mkwargs\u001b[49m\u001b[43m)\u001b[49m\n\u001b[1;32m   1211\u001b[0m \u001b[38;5;28;01mif\u001b[39;00m statistical_inefficiency \u001b[38;5;129;01mand\u001b[39;00m n_equilibration_iterations \u001b[38;5;129;01mis\u001b[39;00m \u001b[38;5;28;01mNone\u001b[39;00m:\n\u001b[1;32m   1212\u001b[0m     \u001b[38;5;28;01mraise\u001b[39;00m \u001b[38;5;167;01mException\u001b[39;00m(\u001b[38;5;124m\"\u001b[39m\u001b[38;5;124mCannot specify statistical_inefficiency without n_equilibration_iterations, because \u001b[39m\u001b[38;5;124m\"\u001b[39m \\\n\u001b[1;32m   1213\u001b[0m     \u001b[38;5;124m\"\u001b[39m\u001b[38;5;124motherwise n_equilibration_iterations cannot be computed for the given statistical_inefficiency.\u001b[39m\u001b[38;5;124m\"\u001b[39m)\n",
      "File \u001b[0;32m~/anaconda3/envs/openmm/lib/python3.12/site-packages/openmmtools/multistate/multistateanalyzer.py:548\u001b[0m, in \u001b[0;36mPhaseAnalyzer.__init__\u001b[0;34m(self, reporter, name, reference_states, max_n_iterations, analysis_kwargs, registry, use_online_data, use_full_trajectory)\u001b[0m\n\u001b[1;32m    546\u001b[0m \u001b[38;5;66;03m# Arguments validation.\u001b[39;00m\n\u001b[1;32m    547\u001b[0m \u001b[38;5;28;01mif\u001b[39;00m \u001b[38;5;129;01mnot\u001b[39;00m \u001b[38;5;28mtype\u001b[39m(reporter) \u001b[38;5;129;01mis\u001b[39;00m multistate\u001b[38;5;241m.\u001b[39mMultiStateReporter:\n\u001b[0;32m--> 548\u001b[0m     \u001b[38;5;28;01mraise\u001b[39;00m \u001b[38;5;167;01mValueError\u001b[39;00m(\u001b[38;5;124m'\u001b[39m\u001b[38;5;124mreporter must be a MultiStateReporter instance\u001b[39m\u001b[38;5;124m'\u001b[39m)\n\u001b[1;32m    549\u001b[0m \u001b[38;5;28;01mif\u001b[39;00m \u001b[38;5;129;01mnot\u001b[39;00m \u001b[38;5;28misinstance\u001b[39m(registry, ObservablesRegistry):\n\u001b[1;32m    550\u001b[0m     \u001b[38;5;28;01mraise\u001b[39;00m \u001b[38;5;167;01mValueError\u001b[39;00m(\u001b[38;5;124m\"\u001b[39m\u001b[38;5;124mRegistry must be an instanced ObservablesRegistry\u001b[39m\u001b[38;5;124m\"\u001b[39m)\n",
      "\u001b[0;31mValueError\u001b[0m: reporter must be a MultiStateReporter instance"
     ]
    }
   ],
   "source": [
    "from openmmtools.multistate import ParallelTemperingAnalyzer\n",
    "\n",
    "analyzer = ParallelTemperingAnalyzer(storage_path)\n"
   ]
  },
  {
   "cell_type": "code",
   "execution_count": null,
   "metadata": {},
   "outputs": [],
   "source": []
  }
 ],
 "metadata": {
  "kernelspec": {
   "display_name": "openmm",
   "language": "python",
   "name": "python3"
  },
  "language_info": {
   "codemirror_mode": {
    "name": "ipython",
    "version": 3
   },
   "file_extension": ".py",
   "mimetype": "text/x-python",
   "name": "python",
   "nbconvert_exporter": "python",
   "pygments_lexer": "ipython3",
   "version": "3.12.4"
  }
 },
 "nbformat": 4,
 "nbformat_minor": 2
}
