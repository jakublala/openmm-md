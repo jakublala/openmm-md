{
 "cells": [
  {
   "cell_type": "code",
   "execution_count": 2,
   "metadata": {},
   "outputs": [
    {
     "name": "stderr",
     "output_type": "stream",
     "text": [
      "Warning on use of the timeseries module: If the inherent timescales of the system are long compared to those being analyzed, this statistical inefficiency may be an underestimate.  The estimate presumes the use of many statistically independent samples.  Tests should be performed to assess whether this condition is satisfied.   Be cautious in the interpretation of the data.\n",
      "\n",
      "****** PyMBAR will use 64-bit JAX! *******\n",
      "* JAX is currently set to 32-bit bitsize *\n",
      "* which is its default.                  *\n",
      "*                                        *\n",
      "* PyMBAR requires 64-bit mode and WILL   *\n",
      "* enable JAX's 64-bit mode when called.  *\n",
      "*                                        *\n",
      "* This MAY cause problems with other     *\n",
      "* Uses of JAX in the same code.          *\n",
      "******************************************\n",
      "\n"
     ]
    }
   ],
   "source": [
    "from openmm import unit\n",
    "from openmmtools import testsystems, states, mcmc\n",
    "from openmmtools.multistate import ParallelTemperingSampler, MultiStateReporter\n",
    "import tempfile\n",
    "import os"
   ]
  },
  {
   "cell_type": "code",
   "execution_count": 16,
   "metadata": {},
   "outputs": [],
   "source": [
    "from openmm.app import *\n",
    "\n",
    "pdb = PDBFile('/home/jakub/phd/openmm-md/data/241010_FoldingUponBinding/output/SUMO-1C/241128-MetaD/sumo1c_equilibrated.pdb')\n",
    "\n",
    "forcefield = ForceField('amber14-all.xml', 'amber14/tip3pfb.xml')\n",
    "\n",
    "system = forcefield.createSystem(\n",
    "    topology=pdb.topology, \n",
    "    nonbondedMethod=PME,\n",
    "    nonbondedCutoff=1*unit.nanometer,\n",
    "    constraints=HBonds\n",
    "    )"
   ]
  },
  {
   "cell_type": "code",
   "execution_count": 17,
   "metadata": {},
   "outputs": [],
   "source": [
    "n_replicas = 4  # Number of temperature replicas.\n",
    "T_min = 300.0 * unit.kelvin  # Minimum temperature.\n",
    "T_max = 600.0 * unit.kelvin  # Maximum temperature.\n",
    "\n",
    "\n",
    "# thermodynamic state holds information on ensemble parameters like temperture and pressure\n",
    "reference_state = states.ThermodynamicState(system=system, temperature=T_min)\n"
   ]
  },
  {
   "cell_type": "code",
   "execution_count": 18,
   "metadata": {},
   "outputs": [],
   "source": [
    "move = mcmc.GHMCMove(timestep=2.0*unit.femtoseconds, n_steps=50)"
   ]
  },
  {
   "cell_type": "code",
   "execution_count": 32,
   "metadata": {},
   "outputs": [
    {
     "name": "stderr",
     "output_type": "stream",
     "text": [
      "Warning: The openmmtools.multistate API is experimental and may change in future releases\n"
     ]
    }
   ],
   "source": [
    "storage_path = 'replica_exchange.nc'\n",
    "reporter = MultiStateReporter(storage_path, checkpoint_interval=10)"
   ]
  },
  {
   "cell_type": "code",
   "execution_count": 33,
   "metadata": {},
   "outputs": [
    {
     "name": "stderr",
     "output_type": "stream",
     "text": [
      "Exception ignored in: <function PhaseAnalyzer.__del__ at 0x7f56e0d03880>\n",
      "Traceback (most recent call last):\n",
      "  File \"/home/jakub/anaconda3/envs/openmm/lib/python3.12/site-packages/openmmtools/multistate/multistateanalyzer.py\", line 592, in __del__\n",
      "    self.clear()\n",
      "  File \"/home/jakub/anaconda3/envs/openmm/lib/python3.12/site-packages/openmmtools/multistate/multistateanalyzer.py\", line 1238, in clear\n",
      "    super().clear()\n",
      "  File \"/home/jakub/anaconda3/envs/openmm/lib/python3.12/site-packages/openmmtools/multistate/multistateanalyzer.py\", line 608, in clear\n",
      "    self._invalidate_cache_values('reporter')\n",
      "  File \"/home/jakub/anaconda3/envs/openmm/lib/python3.12/site-packages/openmmtools/multistate/multistateanalyzer.py\", line 791, in _invalidate_cache_values\n",
      "    self._invalidate_cache_values(k)\n",
      "  File \"/home/jakub/anaconda3/envs/openmm/lib/python3.12/site-packages/openmmtools/multistate/multistateanalyzer.py\", line 791, in _invalidate_cache_values\n",
      "    self._invalidate_cache_values(k)\n",
      "  File \"/home/jakub/anaconda3/envs/openmm/lib/python3.12/site-packages/openmmtools/multistate/multistateanalyzer.py\", line 791, in _invalidate_cache_values\n",
      "    self._invalidate_cache_values(k)\n",
      "  [Previous line repeated 1 more time]\n",
      "  File \"/home/jakub/anaconda3/envs/openmm/lib/python3.12/site-packages/openmmtools/multistate/multistateanalyzer.py\", line 787, in _invalidate_cache_values\n",
      "    for observable in self.observables:\n",
      "                      ^^^^^^^^^^^^^^^^\n",
      "  File \"/home/jakub/anaconda3/envs/openmm/lib/python3.12/site-packages/openmmtools/multistate/multistateanalyzer.py\", line 626, in observables\n",
      "    for observable in self.registry.observables:\n",
      "                      ^^^^^^^^^^^^^\n",
      "AttributeError: 'ParallelTemperingAnalyzer' object has no attribute 'registry'\n",
      "Warning: The openmmtools.multistate API is experimental and may change in future releases\n"
     ]
    },
    {
     "name": "stdout",
     "output_type": "stream",
     "text": [
      "Please cite the following:\n",
      "\n",
      "        Friedrichs MS, Eastman P, Vaidyanathan V, Houston M, LeGrand S, Beberg AL, Ensign DL, Bruns CM, and Pande VS. Accelerating molecular dynamic simulations on graphics processing unit. J. Comput. Chem. 30:864, 2009. DOI: 10.1002/jcc.21209\n",
      "        Eastman P and Pande VS. OpenMM: A hardware-independent framework for molecular simulations. Comput. Sci. Eng. 12:34, 2010. DOI: 10.1109/MCSE.2010.27\n",
      "        Eastman P and Pande VS. Efficient nonbonded interactions for molecular dynamics on a graphics processing unit. J. Comput. Chem. 31:1268, 2010. DOI: 10.1002/jcc.21413\n",
      "        Eastman P and Pande VS. Constant constraint matrix approximation: A robust, parallelizable constraint method for molecular simulations. J. Chem. Theor. Comput. 6:434, 2010. DOI: 10.1021/ct900463w\n",
      "        Chodera JD and Shirts MR. Replica exchange and expanded ensemble simulations as Gibbs multistate: Simple improvements for enhanced mixing. J. Chem. Phys., 135:194110, 2011. DOI:10.1063/1.3660669\n",
      "        \n"
     ]
    }
   ],
   "source": [
    "# Create sampler state with both positions and box vectors\n",
    "sampler_state = states.SamplerState(\n",
    "    positions=pdb.positions,\n",
    "    box_vectors=system.getDefaultPeriodicBoxVectors()\n",
    ")\n",
    "\n",
    "simulation = ParallelTemperingSampler(\n",
    "    mcmc_moves=move, \n",
    "    number_of_iterations=2\n",
    "    )\n",
    "\n",
    "simulation.create(\n",
    "    thermodynamic_state=reference_state,\n",
    "    sampler_states=[sampler_state],\n",
    "    storage=reporter, \n",
    "    min_temperature=T_min,\n",
    "    max_temperature=T_max, \n",
    "    n_temperatures=n_replicas)\n",
    "\n",
    "\n",
    "simulation.run()\n"
   ]
  },
  {
   "cell_type": "code",
   "execution_count": 34,
   "metadata": {},
   "outputs": [
    {
     "name": "stderr",
     "output_type": "stream",
     "text": [
      "Warning: The openmmtools.multistate API is experimental and may change in future releases\n"
     ]
    },
    {
     "data": {
      "text/plain": [
       "Status(iteration=2, target_error=None, is_completed=True)"
      ]
     },
     "execution_count": 34,
     "metadata": {},
     "output_type": "execute_result"
    }
   ],
   "source": [
    "simulation.read_status('replica_exchange.nc')"
   ]
  },
  {
   "cell_type": "code",
   "execution_count": 1,
   "metadata": {},
   "outputs": [
    {
     "name": "stderr",
     "output_type": "stream",
     "text": [
      "Warning on use of the timeseries module: If the inherent timescales of the system are long compared to those being analyzed, this statistical inefficiency may be an underestimate.  The estimate presumes the use of many statistically independent samples.  Tests should be performed to assess whether this condition is satisfied.   Be cautious in the interpretation of the data.\n",
      "\n",
      "****** PyMBAR will use 64-bit JAX! *******\n",
      "* JAX is currently set to 32-bit bitsize *\n",
      "* which is its default.                  *\n",
      "*                                        *\n",
      "* PyMBAR requires 64-bit mode and WILL   *\n",
      "* enable JAX's 64-bit mode when called.  *\n",
      "*                                        *\n",
      "* This MAY cause problems with other     *\n",
      "* Uses of JAX in the same code.          *\n",
      "******************************************\n",
      "\n",
      "Warning: The openmmtools.multistate API is experimental and may change in future releases\n",
      "/home/jakub/anaconda3/envs/openmm/lib/python3.12/site-packages/openmmtools/multistate/multistateanalyzer.py:960: SyntaxWarning: invalid escape sequence '\\l'\n",
      "  \"\"\"\n",
      "/home/jakub/anaconda3/envs/openmm/lib/python3.12/site-packages/openmmtools/multistate/multistateanalyzer.py:995: SyntaxWarning: invalid escape sequence '\\s'\n",
      "  \"\"\"\n",
      "/home/jakub/anaconda3/envs/openmm/lib/python3.12/site-packages/openmmtools/multistate/multistateanalyzer.py:1415: SyntaxWarning: invalid escape sequence '\\l'\n",
      "  \"\"\"\n",
      "/home/jakub/anaconda3/envs/openmm/lib/python3.12/site-packages/openmmtools/multistate/multistateanalyzer.py:1480: SyntaxWarning: invalid escape sequence '\\s'\n",
      "  \"\"\"Return an MBAR-ready decorrelated energy matrix.\n"
     ]
    },
    {
     "ename": "ValueError",
     "evalue": "reporter must be a MultiStateReporter instance",
     "output_type": "error",
     "traceback": [
      "\u001b[0;31m---------------------------------------------------------------------------\u001b[0m",
      "\u001b[0;31mValueError\u001b[0m                                Traceback (most recent call last)",
      "Cell \u001b[0;32mIn[1], line 3\u001b[0m\n\u001b[1;32m      1\u001b[0m \u001b[38;5;28;01mfrom\u001b[39;00m \u001b[38;5;21;01mopenmmtools\u001b[39;00m\u001b[38;5;21;01m.\u001b[39;00m\u001b[38;5;21;01mmultistate\u001b[39;00m \u001b[38;5;28;01mimport\u001b[39;00m ParallelTemperingAnalyzer\n\u001b[0;32m----> 3\u001b[0m analyzer \u001b[38;5;241m=\u001b[39m \u001b[43mParallelTemperingAnalyzer\u001b[49m\u001b[43m(\u001b[49m\u001b[38;5;124;43m'\u001b[39;49m\u001b[38;5;124;43mreplica_exchange.nc\u001b[39;49m\u001b[38;5;124;43m'\u001b[39;49m\u001b[43m)\u001b[49m\n",
      "File \u001b[0;32m~/anaconda3/envs/openmm/lib/python3.12/site-packages/openmmtools/multistate/multistateanalyzer.py:1209\u001b[0m, in \u001b[0;36mMultiStateSamplerAnalyzer.__init__\u001b[0;34m(self, unbias_restraint, restraint_energy_cutoff, restraint_distance_cutoff, n_equilibration_iterations, statistical_inefficiency, max_subset, *args, **kwargs)\u001b[0m\n\u001b[1;32m   1206\u001b[0m logger\u001b[38;5;241m.\u001b[39mwarn(\u001b[38;5;124m'\u001b[39m\u001b[38;5;124mWarning: The openmmtools.multistate API is experimental and may change in future releases\u001b[39m\u001b[38;5;124m'\u001b[39m)\n\u001b[1;32m   1208\u001b[0m \u001b[38;5;66;03m# super() calls clear() that initialize the cached variables.\u001b[39;00m\n\u001b[0;32m-> 1209\u001b[0m \u001b[38;5;28;43msuper\u001b[39;49m\u001b[43m(\u001b[49m\u001b[43m)\u001b[49m\u001b[38;5;241;43m.\u001b[39;49m\u001b[38;5;21;43m__init__\u001b[39;49m\u001b[43m(\u001b[49m\u001b[38;5;241;43m*\u001b[39;49m\u001b[43margs\u001b[49m\u001b[43m,\u001b[49m\u001b[43m \u001b[49m\u001b[38;5;241;43m*\u001b[39;49m\u001b[38;5;241;43m*\u001b[39;49m\u001b[43mkwargs\u001b[49m\u001b[43m)\u001b[49m\n\u001b[1;32m   1211\u001b[0m \u001b[38;5;28;01mif\u001b[39;00m statistical_inefficiency \u001b[38;5;129;01mand\u001b[39;00m n_equilibration_iterations \u001b[38;5;129;01mis\u001b[39;00m \u001b[38;5;28;01mNone\u001b[39;00m:\n\u001b[1;32m   1212\u001b[0m     \u001b[38;5;28;01mraise\u001b[39;00m \u001b[38;5;167;01mException\u001b[39;00m(\u001b[38;5;124m\"\u001b[39m\u001b[38;5;124mCannot specify statistical_inefficiency without n_equilibration_iterations, because \u001b[39m\u001b[38;5;124m\"\u001b[39m \\\n\u001b[1;32m   1213\u001b[0m     \u001b[38;5;124m\"\u001b[39m\u001b[38;5;124motherwise n_equilibration_iterations cannot be computed for the given statistical_inefficiency.\u001b[39m\u001b[38;5;124m\"\u001b[39m)\n",
      "File \u001b[0;32m~/anaconda3/envs/openmm/lib/python3.12/site-packages/openmmtools/multistate/multistateanalyzer.py:548\u001b[0m, in \u001b[0;36mPhaseAnalyzer.__init__\u001b[0;34m(self, reporter, name, reference_states, max_n_iterations, analysis_kwargs, registry, use_online_data, use_full_trajectory)\u001b[0m\n\u001b[1;32m    546\u001b[0m \u001b[38;5;66;03m# Arguments validation.\u001b[39;00m\n\u001b[1;32m    547\u001b[0m \u001b[38;5;28;01mif\u001b[39;00m \u001b[38;5;129;01mnot\u001b[39;00m \u001b[38;5;28mtype\u001b[39m(reporter) \u001b[38;5;129;01mis\u001b[39;00m multistate\u001b[38;5;241m.\u001b[39mMultiStateReporter:\n\u001b[0;32m--> 548\u001b[0m     \u001b[38;5;28;01mraise\u001b[39;00m \u001b[38;5;167;01mValueError\u001b[39;00m(\u001b[38;5;124m'\u001b[39m\u001b[38;5;124mreporter must be a MultiStateReporter instance\u001b[39m\u001b[38;5;124m'\u001b[39m)\n\u001b[1;32m    549\u001b[0m \u001b[38;5;28;01mif\u001b[39;00m \u001b[38;5;129;01mnot\u001b[39;00m \u001b[38;5;28misinstance\u001b[39m(registry, ObservablesRegistry):\n\u001b[1;32m    550\u001b[0m     \u001b[38;5;28;01mraise\u001b[39;00m \u001b[38;5;167;01mValueError\u001b[39;00m(\u001b[38;5;124m\"\u001b[39m\u001b[38;5;124mRegistry must be an instanced ObservablesRegistry\u001b[39m\u001b[38;5;124m\"\u001b[39m)\n",
      "\u001b[0;31mValueError\u001b[0m: reporter must be a MultiStateReporter instance"
     ]
    }
   ],
   "source": [
    "from openmmtools.multistate import ParallelTemperingAnalyzer\n",
    "\n",
    "analyzer = ParallelTemperingAnalyzer('replica_exchange.nc')\n"
   ]
  },
  {
   "cell_type": "code",
   "execution_count": 21,
   "metadata": {},
   "outputs": [
    {
     "name": "stdout",
     "output_type": "stream",
     "text": [
      "dict_keys(['last_iteration', 'analysis_particle_indices', 'options', 'metadata', 'states', 'energies', 'neighborhoods', 'accepted', 'proposed', 'timestamp'])\n"
     ]
    }
   ],
   "source": [
    "import netCDF4\n",
    "storage_path = 'replica_exchange.nc'\n",
    "nc = netCDF4.Dataset(storage_path, 'r')\n",
    "print(nc.variables.keys())"
   ]
  },
  {
   "cell_type": "code",
   "execution_count": 28,
   "metadata": {},
   "outputs": [
    {
     "data": {
      "text/plain": [
       "<class 'netCDF4._netCDF4.Variable'>\n",
       "int32 states(iteration, replica)\n",
       "    units: none\n",
       "    long_name: states[iteration][replica] is the thermodynamic state index (0..n_states-1) of replica 'replica' of iteration 'iteration'.\n",
       "unlimited dimensions: iteration\n",
       "current shape = (51, 4)\n",
       "filling on, default _FillValue of -2147483647 used"
      ]
     },
     "execution_count": 28,
     "metadata": {},
     "output_type": "execute_result"
    }
   ],
   "source": [
    "nc['states']"
   ]
  },
  {
   "cell_type": "code",
   "execution_count": 31,
   "metadata": {},
   "outputs": [],
   "source": [
    "N_ITERATIONS = nc['states'].shape[0] - 1\n",
    "N_REPLICAS = nc['states'].shape[1]"
   ]
  },
  {
   "cell_type": "code",
   "execution_count": 38,
   "metadata": {},
   "outputs": [
    {
     "name": "stderr",
     "output_type": "stream",
     "text": [
      "Warning: The openmmtools.multistate API is experimental and may change in future releases\n"
     ]
    },
    {
     "ename": "AttributeError",
     "evalue": "'NoneType' object has no attribute 'variables'",
     "output_type": "error",
     "traceback": [
      "\u001b[0;31m---------------------------------------------------------------------------\u001b[0m",
      "\u001b[0;31mAttributeError\u001b[0m                            Traceback (most recent call last)",
      "Cell \u001b[0;32mIn[38], line 17\u001b[0m\n\u001b[1;32m     15\u001b[0m coord_traj \u001b[38;5;241m=\u001b[39m np\u001b[38;5;241m.\u001b[39mzeros((N_REPLICAS, \u001b[38;5;241m20\u001b[39m, pdb\u001b[38;5;241m.\u001b[39mtopology\u001b[38;5;241m.\u001b[39mgetNumAtoms(), \u001b[38;5;241m3\u001b[39m)) \u001b[38;5;241m*\u001b[39m unit\u001b[38;5;241m.\u001b[39mnanometer\n\u001b[1;32m     16\u001b[0m \u001b[38;5;28;01mfor\u001b[39;00m time \u001b[38;5;129;01min\u001b[39;00m \u001b[38;5;28mrange\u001b[39m(\u001b[38;5;241m0\u001b[39m, N_ITERATIONS, \u001b[38;5;241m10\u001b[39m):\n\u001b[0;32m---> 17\u001b[0m     state_samplers \u001b[38;5;241m=\u001b[39m \u001b[43mreporter\u001b[49m\u001b[38;5;241;43m.\u001b[39;49m\u001b[43mread_sampler_states\u001b[49m\u001b[43m(\u001b[49m\u001b[43mtime\u001b[49m\u001b[43m)\u001b[49m\n\u001b[1;32m     18\u001b[0m     \u001b[38;5;28;01mfor\u001b[39;00m i, state_sampler \u001b[38;5;129;01min\u001b[39;00m \u001b[38;5;28menumerate\u001b[39m(state_samplers):\n\u001b[1;32m     19\u001b[0m         coord_traj[i, \u001b[38;5;28mint\u001b[39m(time\u001b[38;5;241m/\u001b[39m\u001b[38;5;241m10\u001b[39m)] \u001b[38;5;241m+\u001b[39m\u001b[38;5;241m=\u001b[39m state_sampler\u001b[38;5;241m.\u001b[39mpositions\n",
      "File \u001b[0;32m~/anaconda3/envs/openmm/lib/python3.12/site-packages/openmmtools/multistate/multistatereporter.py:669\u001b[0m, in \u001b[0;36mMultiStateReporter.read_sampler_states\u001b[0;34m(self, iteration, analysis_particles_only)\u001b[0m\n\u001b[1;32m    666\u001b[0m     \u001b[38;5;28;01mreturn\u001b[39;00m \u001b[38;5;28mself\u001b[39m\u001b[38;5;241m.\u001b[39m_read_sampler_states_from_given_file(iteration, storage_file\u001b[38;5;241m=\u001b[39m\u001b[38;5;124m'\u001b[39m\u001b[38;5;124manalysis\u001b[39m\u001b[38;5;124m'\u001b[39m,\n\u001b[1;32m    667\u001b[0m                                                      obey_checkpoint_interval\u001b[38;5;241m=\u001b[39m\u001b[38;5;28;01mFalse\u001b[39;00m)\n\u001b[1;32m    668\u001b[0m \u001b[38;5;28;01melse\u001b[39;00m:\n\u001b[0;32m--> 669\u001b[0m     \u001b[38;5;28;01mreturn\u001b[39;00m \u001b[38;5;28;43mself\u001b[39;49m\u001b[38;5;241;43m.\u001b[39;49m\u001b[43m_read_sampler_states_from_given_file\u001b[49m\u001b[43m(\u001b[49m\u001b[43miteration\u001b[49m\u001b[43m,\u001b[49m\u001b[43m \u001b[49m\u001b[43mstorage_file\u001b[49m\u001b[38;5;241;43m=\u001b[39;49m\u001b[38;5;124;43m'\u001b[39;49m\u001b[38;5;124;43mcheckpoint\u001b[39;49m\u001b[38;5;124;43m'\u001b[39;49m\u001b[43m,\u001b[49m\n\u001b[1;32m    670\u001b[0m \u001b[43m                                                     \u001b[49m\u001b[43mobey_checkpoint_interval\u001b[49m\u001b[38;5;241;43m=\u001b[39;49m\u001b[38;5;28;43;01mTrue\u001b[39;49;00m\u001b[43m)\u001b[49m\n",
      "File \u001b[0;32m~/anaconda3/envs/openmm/lib/python3.12/site-packages/openmmtools/multistate/multistatereporter.py:1720\u001b[0m, in \u001b[0;36mMultiStateReporter._read_sampler_states_from_given_file\u001b[0;34m(self, iteration, storage_file, obey_checkpoint_interval)\u001b[0m\n\u001b[1;32m   1694\u001b[0m \u001b[38;5;250m\u001b[39m\u001b[38;5;124;03m\"\"\"\u001b[39;00m\n\u001b[1;32m   1695\u001b[0m \u001b[38;5;124;03mInternal function to handle reading sampler states more from a general storage file\u001b[39;00m\n\u001b[1;32m   1696\u001b[0m \n\u001b[0;32m   (...)\u001b[0m\n\u001b[1;32m   1717\u001b[0m \u001b[38;5;124;03m    None is returned\u001b[39;00m\n\u001b[1;32m   1718\u001b[0m \u001b[38;5;124;03m\"\"\"\u001b[39;00m\n\u001b[1;32m   1719\u001b[0m storage \u001b[38;5;241m=\u001b[39m \u001b[38;5;28mself\u001b[39m\u001b[38;5;241m.\u001b[39m_storage_dict[storage_file]\n\u001b[0;32m-> 1720\u001b[0m read_iteration \u001b[38;5;241m=\u001b[39m \u001b[38;5;28;43mself\u001b[39;49m\u001b[38;5;241;43m.\u001b[39;49m\u001b[43m_map_iteration_to_good\u001b[49m\u001b[43m(\u001b[49m\u001b[43miteration\u001b[49m\u001b[43m)\u001b[49m\n\u001b[1;32m   1721\u001b[0m \u001b[38;5;28;01mif\u001b[39;00m obey_checkpoint_interval:\n\u001b[1;32m   1722\u001b[0m     read_iteration \u001b[38;5;241m=\u001b[39m \u001b[38;5;28mself\u001b[39m\u001b[38;5;241m.\u001b[39m_calculate_checkpoint_iteration(iteration)\n",
      "File \u001b[0;32m~/anaconda3/envs/openmm/lib/python3.12/site-packages/openmmtools/multistate/multistatereporter.py:1502\u001b[0m, in \u001b[0;36mMultiStateReporter._map_iteration_to_good\u001b[0;34m(self, iteration)\u001b[0m\n\u001b[1;32m   1484\u001b[0m \u001b[38;5;250m\u001b[39m\u001b[38;5;124;03m\"\"\"\u001b[39;00m\n\u001b[1;32m   1485\u001b[0m \u001b[38;5;124;03mConvert the iteration in 'read_X' functions which take a iteration=slice(None)\u001b[39;00m\n\u001b[1;32m   1486\u001b[0m \u001b[38;5;124;03mto avoid returning a slice of data which goes past the last_iteration.\u001b[39;00m\n\u001b[0;32m   (...)\u001b[0m\n\u001b[1;32m   1498\u001b[0m \u001b[38;5;124;03m    Iteration, converted as needed to only access certain ranges of data\u001b[39;00m\n\u001b[1;32m   1499\u001b[0m \u001b[38;5;124;03m\"\"\"\u001b[39;00m\n\u001b[1;32m   1501\u001b[0m \u001b[38;5;66;03m# Calculate last stored iteration\u001b[39;00m\n\u001b[0;32m-> 1502\u001b[0m last_good \u001b[38;5;241m=\u001b[39m \u001b[38;5;28;43mself\u001b[39;49m\u001b[38;5;241;43m.\u001b[39;49m\u001b[43mread_last_iteration\u001b[49m\u001b[43m(\u001b[49m\u001b[43mlast_checkpoint\u001b[49m\u001b[38;5;241;43m=\u001b[39;49m\u001b[38;5;28;43;01mFalse\u001b[39;49;00m\u001b[43m)\u001b[49m\n\u001b[1;32m   1503\u001b[0m \u001b[38;5;66;03m# Create the artificial index map\u001b[39;00m\n\u001b[1;32m   1504\u001b[0m artificial_map \u001b[38;5;241m=\u001b[39m np\u001b[38;5;241m.\u001b[39marange(last_good \u001b[38;5;241m+\u001b[39m \u001b[38;5;241m1\u001b[39m, dtype\u001b[38;5;241m=\u001b[39m\u001b[38;5;28mint\u001b[39m)\n",
      "File \u001b[0;32m~/anaconda3/envs/openmm/lib/python3.12/site-packages/openmmtools/multistate/multistatereporter.py:1137\u001b[0m, in \u001b[0;36mMultiStateReporter.read_last_iteration\u001b[0;34m(self, last_checkpoint)\u001b[0m\n\u001b[1;32m   1122\u001b[0m \u001b[38;5;250m\u001b[39m\u001b[38;5;124;03m\"\"\"\u001b[39;00m\n\u001b[1;32m   1123\u001b[0m \u001b[38;5;124;03mRead the last iteration from file which was written in sequential order.\u001b[39;00m\n\u001b[1;32m   1124\u001b[0m \n\u001b[0;32m   (...)\u001b[0m\n\u001b[1;32m   1134\u001b[0m \n\u001b[1;32m   1135\u001b[0m \u001b[38;5;124;03m\"\"\"\u001b[39;00m\n\u001b[1;32m   1136\u001b[0m \u001b[38;5;66;03m# Make sure this is returned as Python int.\u001b[39;00m\n\u001b[0;32m-> 1137\u001b[0m last_iteration \u001b[38;5;241m=\u001b[39m \u001b[38;5;28mint\u001b[39m(\u001b[38;5;28;43mself\u001b[39;49m\u001b[38;5;241;43m.\u001b[39;49m\u001b[43m_storage_analysis\u001b[49m\u001b[38;5;241;43m.\u001b[39;49m\u001b[43mvariables\u001b[49m[\u001b[38;5;124m'\u001b[39m\u001b[38;5;124mlast_iteration\u001b[39m\u001b[38;5;124m'\u001b[39m][\u001b[38;5;241m0\u001b[39m])\n\u001b[1;32m   1139\u001b[0m \u001b[38;5;66;03m# Get last checkpoint.\u001b[39;00m\n\u001b[1;32m   1140\u001b[0m \u001b[38;5;28;01mif\u001b[39;00m last_checkpoint:\n\u001b[1;32m   1141\u001b[0m     \u001b[38;5;66;03m# -1 for stop ensures the 0th index is searched.\u001b[39;00m\n",
      "\u001b[0;31mAttributeError\u001b[0m: 'NoneType' object has no attribute 'variables'"
     ]
    }
   ],
   "source": []
  },
  {
   "cell_type": "code",
   "execution_count": null,
   "metadata": {},
   "outputs": [],
   "source": []
  }
 ],
 "metadata": {
  "kernelspec": {
   "display_name": "openmm",
   "language": "python",
   "name": "python3"
  },
  "language_info": {
   "codemirror_mode": {
    "name": "ipython",
    "version": 3
   },
   "file_extension": ".py",
   "mimetype": "text/x-python",
   "name": "python",
   "nbconvert_exporter": "python",
   "pygments_lexer": "ipython3",
   "version": "3.12.4"
  }
 },
 "nbformat": 4,
 "nbformat_minor": 2
}
