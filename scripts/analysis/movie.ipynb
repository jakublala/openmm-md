{
 "cells": [
  {
   "cell_type": "code",
   "execution_count": 1,
   "metadata": {},
   "outputs": [
    {
     "name": "stderr",
     "output_type": "stream",
     "text": [
      "/var/folders/hn/t1s7dmhn2j7ct2zj0hs8zgsr0000gn/T/ipykernel_10024/1683664871.py:20: DeprecationWarning: Starting with ImageIO v3 the behavior of this function will switch to that of iio.v3.imread. To keep the current behavior (and make this warning disappear) use `import imageio.v2 as imageio` or call `imageio.v2.imread` directly.\n",
      "  image = imageio.imread(file_path)\n",
      "IMAGEIO FFMPEG_WRITER WARNING: input image is not divisible by macro_block_size=16, resizing from (1552, 1130) to (1552, 1136) to ensure video compatibility with most codecs and players. To prevent resizing, make your input image divisible by the macro_block_size or set the macro_block_size to 1 (risking incompatibility).\n"
     ]
    },
    {
     "name": "stdout",
     "output_type": "stream",
     "text": [
      "Movie created: output_movie.mp4\n"
     ]
    }
   ],
   "source": [
    "# combine all pngs in pymol-pngs into a single movie and compress it and make it into a mp4\n",
    "import os\n",
    "import imageio\n",
    "\n",
    "# Define the directory containing the PNG files\n",
    "png_directory = 'movie_dynamics'\n",
    "\n",
    "# Get a list of all PNG files in the directory\n",
    "png_files = [f for f in os.listdir(png_directory) if f.endswith('.png')]\n",
    "\n",
    "# Sort the PNG files to ensure they're in the correct order\n",
    "png_files.sort()\n",
    "\n",
    "# Create a list to store the image frames\n",
    "frames = []\n",
    "\n",
    "# Read each PNG file and append it to the frames list\n",
    "for png_file in png_files:\n",
    "    file_path = os.path.join(png_directory, png_file)\n",
    "    image = imageio.imread(file_path)\n",
    "    frames.append(image)\n",
    "\n",
    "# Define the output video file name\n",
    "output_file = 'output_movie.mp4'\n",
    "\n",
    "# Write the frames to the output video file\n",
    "# We'll use a frame rate of 30 FPS (adjust as needed)\n",
    "imageio.mimsave(output_file, frames, fps=30, quality=8)\n",
    "\n",
    "print(f\"Movie created: {output_file}\")"
   ]
  },
  {
   "cell_type": "code",
   "execution_count": 4,
   "metadata": {},
   "outputs": [
    {
     "name": "stdout",
     "output_type": "stream",
     "text": [
      "ffmpeg version 7.0.2 Copyright (c) 2000-2024 the FFmpeg developers\n",
      "  built with Apple clang version 15.0.0 (clang-1500.3.9.4)\n",
      "  configuration: --prefix=/opt/homebrew/Cellar/ffmpeg/7.0.2_1 --enable-shared --enable-pthreads --enable-version3 --cc=clang --host-cflags= --host-ldflags='-Wl,-ld_classic' --enable-ffplay --enable-gnutls --enable-gpl --enable-libaom --enable-libaribb24 --enable-libbluray --enable-libdav1d --enable-libharfbuzz --enable-libjxl --enable-libmp3lame --enable-libopus --enable-librav1e --enable-librist --enable-librubberband --enable-libsnappy --enable-libsrt --enable-libssh --enable-libsvtav1 --enable-libtesseract --enable-libtheora --enable-libvidstab --enable-libvmaf --enable-libvorbis --enable-libvpx --enable-libwebp --enable-libx264 --enable-libx265 --enable-libxml2 --enable-libxvid --enable-lzma --enable-libfontconfig --enable-libfreetype --enable-frei0r --enable-libass --enable-libopencore-amrnb --enable-libopencore-amrwb --enable-libopenjpeg --enable-libspeex --enable-libsoxr --enable-libzmq --enable-libzimg --disable-libjack --disable-indev=jack --enable-videotoolbox --enable-audiotoolbox --enable-neon\n",
      "  libavutil      59.  8.100 / 59.  8.100\n",
      "  libavcodec     61.  3.100 / 61.  3.100\n",
      "  libavformat    61.  1.100 / 61.  1.100\n",
      "  libavdevice    61.  1.100 / 61.  1.100\n",
      "  libavfilter    10.  1.100 / 10.  1.100\n",
      "  libswscale      8.  1.100 /  8.  1.100\n",
      "  libswresample   5.  1.100 /  5.  1.100\n",
      "  libpostproc    58.  1.100 / 58.  1.100\n",
      "Input #0, mov,mp4,m4a,3gp,3g2,mj2, from 'output_movie.mp4':\n",
      "  Metadata:\n",
      "    major_brand     : isom\n",
      "    minor_version   : 512\n",
      "    compatible_brands: isomiso2avc1mp41\n",
      "    encoder         : Lavf61.1.100\n",
      "  Duration: 00:00:33.33, start: 0.000000, bitrate: 5775 kb/s\n",
      "  Stream #0:0[0x1](und): Video: h264 (High) (avc1 / 0x31637661), yuv420p(progressive), 784x576, 5772 kb/s, 30 fps, 30 tbr, 15360 tbn (default)\n",
      "      Metadata:\n",
      "        handler_name    : VideoHandler\n",
      "        vendor_id       : [0][0][0][0]\n",
      "        encoder         : Lavc61.3.100 libx264\n",
      "Stream mapping:\n",
      "  Stream #0:0 -> #0:0 (h264 (native) -> h264 (libx264))\n",
      "Press [q] to stop, [?] for help\n",
      "\u001b[1;36m[libx264 @ 0x13780f110] \u001b[0musing cpu capabilities: ARMv8 NEON\n",
      "\u001b[1;36m[libx264 @ 0x13780f110] \u001b[0mprofile High, level 3.1, 4:2:0, 8-bit\n",
      "\u001b[1;36m[libx264 @ 0x13780f110] \u001b[0m264 - core 164 r3108 31e19f9 - H.264/MPEG-4 AVC codec - Copyleft 2003-2023 - http://www.videolan.org/x264.html - options: cabac=1 ref=5 deblock=1:0:0 analyse=0x3:0x113 me=hex subme=8 psy=1 psy_rd=1.00:0.00 mixed_ref=1 me_range=16 chroma_me=1 trellis=2 8x8dct=1 cqm=0 deadzone=21,11 fast_pskip=1 chroma_qp_offset=-2 threads=21 lookahead_threads=3 sliced_threads=0 nr=0 decimate=1 interlaced=0 bluray_compat=0 constrained_intra=0 bframes=3 b_pyramid=2 b_adapt=1 b_bias=0 direct=3 weightb=1 open_gop=0 weightp=2 keyint=250 keyint_min=25 scenecut=40 intra_refresh=0 rc_lookahead=50 rc=crf mbtree=1 crf=22.0 qcomp=0.60 qpmin=0 qpmax=69 qpstep=4 vbv_maxrate=800 vbv_bufsize=1600 crf_max=0.0 nal_hrd=none filler=0 ip_ratio=1.40 aq=1:1.00\n",
      "Output #0, mp4, to 'compressed_output_movie.mp4':\n",
      "  Metadata:\n",
      "    major_brand     : isom\n",
      "    minor_version   : 512\n",
      "    compatible_brands: isomiso2avc1mp41\n",
      "    encoder         : Lavf61.1.100\n",
      "  Stream #0:0(und): Video: h264 (avc1 / 0x31637661), yuv420p(progressive), 980x720, q=2-31, 800 kb/s, 30 fps, 15360 tbn (default)\n",
      "      Metadata:\n",
      "        handler_name    : VideoHandler\n",
      "        vendor_id       : [0][0][0][0]\n",
      "        encoder         : Lavc61.3.100 libx264\n",
      "      Side data:\n",
      "        cpb: bitrate max/min/avg: 800000/0/800000 buffer size: 1600000 vbv_delay: N/A\n",
      "\u001b[1;35m[out#0/mp4 @ 0x13780fb10] \u001b[0mvideo:3301KiB audio:0KiB subtitle:0KiB other streams:0KiB global headers:0KiB muxing overhead: 0.381731%\n",
      "frame= 1000 fps=442 q=-1.0 Lsize=    3314KiB time=00:00:33.26 bitrate= 816.0kbits/s speed=14.7x    \n",
      "\u001b[1;36m[libx264 @ 0x13780f110] \u001b[0mframe I:8     Avg QP:29.28  size: 10949\n",
      "\u001b[1;36m[libx264 @ 0x13780f110] \u001b[0mframe P:253   Avg QP:37.39  size:  4163\n",
      "\u001b[1;36m[libx264 @ 0x13780f110] \u001b[0mframe B:739   Avg QP:39.93  size:  3029\n",
      "\u001b[1;36m[libx264 @ 0x13780f110] \u001b[0mconsecutive B-frames:  0.9%  1.4%  0.9% 96.8%\n",
      "\u001b[1;36m[libx264 @ 0x13780f110] \u001b[0mmb I  I16..4:  4.8% 88.8%  6.4%\n",
      "\u001b[1;36m[libx264 @ 0x13780f110] \u001b[0mmb P  I16..4:  0.6%  7.3%  0.7%  P16..4: 17.4%  4.6%  1.8%  0.0%  0.0%    skip:67.6%\n",
      "\u001b[1;36m[libx264 @ 0x13780f110] \u001b[0mmb B  I16..4:  0.1%  1.4%  0.2%  B16..8: 23.0%  5.0%  0.4%  direct: 0.8%  skip:69.0%  L0:56.0% L1:42.6% BI: 1.4%\n",
      "\u001b[1;36m[libx264 @ 0x13780f110] \u001b[0m8x8 transform intra:84.2% inter:74.5%\n",
      "\u001b[1;36m[libx264 @ 0x13780f110] \u001b[0mdirect mvs  spatial:98.5% temporal:1.5%\n",
      "\u001b[1;36m[libx264 @ 0x13780f110] \u001b[0mcoded y,uvDC,uvAC intra: 26.2% 37.7% 25.8% inter: 3.6% 4.7% 0.5%\n",
      "\u001b[1;36m[libx264 @ 0x13780f110] \u001b[0mi16 v,h,dc,p: 34% 34% 16% 16%\n",
      "\u001b[1;36m[libx264 @ 0x13780f110] \u001b[0mi8 v,h,dc,ddl,ddr,vr,hd,vl,hu: 12% 11% 48%  4%  6%  5%  5%  4%  4%\n",
      "\u001b[1;36m[libx264 @ 0x13780f110] \u001b[0mi4 v,h,dc,ddl,ddr,vr,hd,vl,hu: 12% 15% 36%  5%  9%  7%  7%  4%  4%\n",
      "\u001b[1;36m[libx264 @ 0x13780f110] \u001b[0mi8c dc,h,v,p: 68% 16% 12%  3%\n",
      "\u001b[1;36m[libx264 @ 0x13780f110] \u001b[0mWeighted P-Frames: Y:7.1% UV:7.1%\n",
      "\u001b[1;36m[libx264 @ 0x13780f110] \u001b[0mref P L0: 44.3%  3.6% 22.6% 15.6% 12.9%  1.0%\n",
      "\u001b[1;36m[libx264 @ 0x13780f110] \u001b[0mref B L0: 55.4% 27.8% 13.0%  3.8%\n",
      "\u001b[1;36m[libx264 @ 0x13780f110] \u001b[0mref B L1: 85.5% 14.5%\n",
      "\u001b[1;36m[libx264 @ 0x13780f110] \u001b[0mkb/s:811.05\n"
     ]
    }
   ],
   "source": [
    "!ffmpeg -i output_movie.mp4 -b:v 800k -maxrate 800k -bufsize 1600k -vf \"scale=-2:720\" -preset slow -crf 22 -y compressed_output_movie.mp4"
   ]
  },
  {
   "cell_type": "code",
   "execution_count": null,
   "metadata": {},
   "outputs": [],
   "source": []
  }
 ],
 "metadata": {
  "kernelspec": {
   "display_name": "openmm",
   "language": "python",
   "name": "python3"
  },
  "language_info": {
   "codemirror_mode": {
    "name": "ipython",
    "version": 3
   },
   "file_extension": ".py",
   "mimetype": "text/x-python",
   "name": "python",
   "nbconvert_exporter": "python",
   "pygments_lexer": "ipython3",
   "version": "3.12.4"
  }
 },
 "nbformat": 4,
 "nbformat_minor": 2
}
