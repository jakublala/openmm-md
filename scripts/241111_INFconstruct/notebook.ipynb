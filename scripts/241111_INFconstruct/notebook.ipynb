{
 "cells": [
  {
   "cell_type": "code",
   "execution_count": 17,
   "metadata": {},
   "outputs": [
    {
     "name": "stdout",
     "output_type": "stream",
     "text": [
      "@CA-A_1,@CA-A_2,@CA-A_3,@CA-A_4,@CA-A_5,@CA-A_6,@CA-A_7,@CA-A_8,@CA-A_9,@CA-A_10,@CA-A_11,@CA-A_12,@CA-A_13,@CA-A_14,@CA-A_15,@CA-A_16,@CA-A_17,@CA-A_18,@CA-A_19,@CA-A_20,@CA-A_21,@CA-A_22,@CA-A_23,@CA-A_24,@CA-A_25,@CA-A_26,@CA-A_27,@CA-A_28,@CA-A_29,@CA-A_30,@CA-A_31,@CA-A_32,@CA-A_33,@CA-A_34,@CA-A_35,@CA-A_36,@CA-A_37,@CA-A_38,@CA-A_39,@CA-A_40,@CA-A_41,@CA-A_42,@CA-A_43,@CA-A_44,@CA-A_45,@CA-A_46,@CA-A_47,@CA-A_48,@CA-A_49,@CA-A_50\n",
      "@CA-A_81,@CA-A_82,@CA-A_83,@CA-A_84,@CA-A_85,@CA-A_86,@CA-A_87,@CA-A_88,@CA-A_89,@CA-A_90,@CA-A_91,@CA-A_92,@CA-A_93,@CA-A_94,@CA-A_95,@CA-A_96,@CA-A_97,@CA-A_98,@CA-A_99,@CA-A_100,@CA-A_101,@CA-A_102,@CA-A_103,@CA-A_104,@CA-A_105,@CA-A_106,@CA-A_107,@CA-A_108,@CA-A_109,@CA-A_110,@CA-A_111,@CA-A_112,@CA-A_113,@CA-A_114,@CA-A_115,@CA-A_116,@CA-A_117,@CA-A_118,@CA-A_119,@CA-A_120,@CA-A_121,@CA-A_122,@CA-A_123,@CA-A_124,@CA-A_125,@CA-A_126,@CA-A_127,@CA-A_128,@CA-A_129,@CA-A_130,@CA-A_131,@CA-A_132,@CA-A_133,@CA-A_134,@CA-A_135,@CA-A_136,@CA-A_137,@CA-A_138,@CA-A_139,@CA-A_140,@CA-A_141,@CA-A_142,@CA-A_143,@CA-A_144,@CA-A_145,@CA-A_146,@CA-A_147,@CA-A_148,@CA-A_149,@CA-A_150,@CA-A_151,@CA-A_152,@CA-A_153,@CA-A_154,@CA-A_155,@CA-A_156,@CA-A_157,@CA-A_158,@CA-A_159,@CA-A_160,@CA-A_161,@CA-A_162,@CA-A_163,@CA-A_164,@CA-A_165,@CA-A_166,@CA-A_167,@CA-A_168,@CA-A_169,@CA-A_170,@CA-A_171,@CA-A_172,@CA-A_173,@CA-A_174,@CA-A_175,@CA-A_176,@CA-A_177,@CA-A_178,@CA-A_179,@CA-A_180,@CA-A_181,@CA-A_182,@CA-A_183,@CA-A_184,@CA-A_185,@CA-A_186,@CA-A_187,@CA-A_188,@CA-A_189,@CA-A_190,@CA-A_191,@CA-A_192,@CA-A_193,@CA-A_194,@CA-A_195,@CA-A_196,@CA-A_197,@CA-A_198,@CA-A_199,@CA-A_200,@CA-A_201,@CA-A_202,@CA-A_203,@CA-A_204,@CA-A_205,@CA-A_206,@CA-A_207,@CA-A_208,@CA-A_209,@CA-A_210,@CA-A_211,@CA-A_212,@CA-A_213,@CA-A_214,@CA-A_215,@CA-A_216,@CA-A_217,@CA-A_218,@CA-A_219,@CA-A_220,@CA-A_221,@CA-A_222,@CA-A_223,@CA-A_224,@CA-A_225,@CA-A_226,@CA-A_227,@CA-A_228,@CA-A_229,@CA-A_230,@CA-A_231,@CA-A_232,@CA-A_233,@CA-A_234,@CA-A_235,@CA-A_236,@CA-A_237,@CA-A_238,@CA-A_239,@CA-A_240,@CA-A_241\n",
      "[[3.7335942 3.7357063 3.9082017 ... 3.7685153 4.1227236 4.195579 ]]\n"
     ]
    },
    {
     "ename": "TypeError",
     "evalue": "only integer scalar arrays can be converted to a scalar index",
     "output_type": "error",
     "traceback": [
      "\u001b[0;31m---------------------------------------------------------------------------\u001b[0m",
      "\u001b[0;31mTypeError\u001b[0m                                 Traceback (most recent call last)",
      "Cell \u001b[0;32mIn[17], line 65\u001b[0m\n\u001b[1;32m     63\u001b[0m distances \u001b[38;5;241m=\u001b[39m md\u001b[38;5;241m.\u001b[39mcompute_distances(traj, atom_pairs)\n\u001b[1;32m     64\u001b[0m \u001b[38;5;28mprint\u001b[39m(distances)\n\u001b[0;32m---> 65\u001b[0m contact_CA_indices \u001b[38;5;241m=\u001b[39m \u001b[43matom_pairs\u001b[49m\u001b[43m[\u001b[49m\u001b[43mnp\u001b[49m\u001b[38;5;241;43m.\u001b[39;49m\u001b[43mwhere\u001b[49m\u001b[43m(\u001b[49m\u001b[43mdistances\u001b[49m\u001b[43m \u001b[49m\u001b[38;5;241;43m<\u001b[39;49m\u001b[43m \u001b[49m\u001b[43mcutoff\u001b[49m\u001b[43m)\u001b[49m\u001b[43m[\u001b[49m\u001b[38;5;241;43m1\u001b[39;49m\u001b[43m]\u001b[49m\u001b[43m]\u001b[49m \n\u001b[1;32m     66\u001b[0m \u001b[38;5;28mprint\u001b[39m(contact_CA_indices)\n\u001b[1;32m     67\u001b[0m contact_residues \u001b[38;5;241m=\u001b[39m []\n",
      "\u001b[0;31mTypeError\u001b[0m: only integer scalar arrays can be converted to a scalar index"
     ]
    }
   ],
   "source": [
    "import mdtraj as md\n",
    "import tempfile\n",
    "\n",
    "output_dir = '../../data/241109_INFconstruct/output/Z1-B50W/241111'\n",
    "filename = 'Z1-B50W'\n",
    "\n",
    "# go through all lines of the pdb until you find TER of chain B and then remove all lines until you find the next chain A TER and add END\n",
    "with open(f'{output_dir}/{filename}_solvated.pdb', 'r') as file:\n",
    "    lines = file.readlines()\n",
    "\n",
    "\n",
    "with tempfile.NamedTemporaryFile(delete=False, suffix='.pdb') as temp_file:\n",
    "    for line in lines:\n",
    "        temp_file.write(line.encode())\n",
    "    temp_file.write(b'END\\n')\n",
    "    temp_filename = temp_file.name\n",
    "\n",
    "traj = md.load(temp_filename)\n",
    "protein = traj.topology.select('chainid 0 and name CA')\n",
    "\n",
    "# binder indices\n",
    "# binding site indices - on the INF: 55-135 (wide) or 80-100; but we might actually not care about this\n",
    "\n",
    "# effectively split the protein into two parts: binder and INF\n",
    "# in total, this has 241 residues\n",
    "# 50-aa binder - 10aa linker - 10aa protease - 10aa linker - 161 INF-beta part (that was sent from MIT)\n",
    "# this equals 241 residues, which is correct\n",
    "\n",
    "binder_length = 50\n",
    "linker1_length = 10\n",
    "protease_length = 10\n",
    "linker2_length = 10\n",
    "inf_length = 161\n",
    "\n",
    "binder_residue_indices = range(1, binder_length + 1)\n",
    "linker1_residue_indices = range(binder_length + 1, binder_length + linker1_length + 1)\n",
    "protease_residue_indices = range(binder_length + linker1_length + 1, binder_length + linker1_length + protease_length + 1)\n",
    "linker2_residue_indices = range(binder_length + linker1_length + protease_length + 1, binder_length + linker1_length + protease_length + linker2_length + 1)\n",
    "inf_residue_indices = range(binder_length + linker1_length + protease_length + linker2_length + 1, binder_length + linker1_length + protease_length + linker2_length + inf_length + 1)\n",
    "\n",
    "assert len(protein) == binder_length + linker1_length + protease_length + linker2_length + inf_length, f\"Protein length does not match expected length. Expected {binder_length + linker1_length + protease_length + linker2_length + inf_length}, got {len(protein)}\"\n",
    "\n",
    "binder = protein[:binder_length]\n",
    "inf = protein[binder_length + linker1_length + protease_length + linker2_length:]\n",
    "\n",
    "all_CA_atom_indices = traj.topology.select('chainid 0 and name CA')\n",
    "\n",
    "binder_CA_atom_indices = all_CA_atom_indices[:binder_length]\n",
    "inf_CA_atom_indices = all_CA_atom_indices[binder_length + linker1_length + protease_length + linker2_length:]\n",
    "\n",
    "\n",
    "\n",
    "com_binder = ','.join([f\"@CA-A_{i}\" for i in binder_residue_indices])\n",
    "com_binding_site = ','.join([f\"@CA-A_{i}\" for i in inf_residue_indices])\n",
    "\n",
    "print(com_binder)\n",
    "print(com_binding_site)\n",
    "\n",
    "import itertools\n",
    "import numpy as np\n",
    "cutoff = 0.8\n",
    "atom_pairs = list(itertools.product(binder_CA_atom_indices, inf_CA_atom_indices))\n",
    "distances = md.compute_distances(traj, atom_pairs)\n",
    "print(distances)\n",
    "contact_CA_indices = atom_pairs[np.where(distances < cutoff)[1]] \n",
    "print(contact_CA_indices)\n",
    "contact_residues = []\n",
    "for i, j in contact_CA_indices:\n",
    "    contact_residues.append([traj.topology.atom(i).residue.index + 1, traj.topology.atom(j).residue.index + 1 - binder_length])\n",
    "\n",
    "print(contact_residues)\n",
    "\n"
   ]
  },
  {
   "cell_type": "code",
   "execution_count": 15,
   "metadata": {},
   "outputs": [
    {
     "data": {
      "text/plain": [
       "array([  38,  437,  440,  923, 1084, 1892, 2961, 3601, 4273, 4276, 4277,\n",
       "       4760, 4917, 4918, 5075, 5078, 5393, 5397, 5554, 5711, 5715, 5861,\n",
       "       5862, 5863, 5864, 6023, 6025, 6185, 6186, 6507, 7535])"
      ]
     },
     "execution_count": 15,
     "metadata": {},
     "output_type": "execute_result"
    }
   ],
   "source": [
    "np.where(distances < cutoff)[1]"
   ]
  },
  {
   "cell_type": "code",
   "execution_count": 16,
   "metadata": {},
   "outputs": [
    {
     "name": "stdout",
     "output_type": "stream",
     "text": [
      "8050\n"
     ]
    }
   ],
   "source": [
    "print(len(distances[0]))"
   ]
  },
  {
   "cell_type": "code",
   "execution_count": null,
   "metadata": {},
   "outputs": [],
   "source": []
  }
 ],
 "metadata": {
  "kernelspec": {
   "display_name": "openmm",
   "language": "python",
   "name": "python3"
  },
  "language_info": {
   "codemirror_mode": {
    "name": "ipython",
    "version": 3
   },
   "file_extension": ".py",
   "mimetype": "text/x-python",
   "name": "python",
   "nbconvert_exporter": "python",
   "pygments_lexer": "ipython3",
   "version": "3.12.4"
  }
 },
 "nbformat": 4,
 "nbformat_minor": 2
}
