{
 "cells": [
  {
   "cell_type": "code",
   "execution_count": 5,
   "metadata": {},
   "outputs": [
    {
     "name": "stdout",
     "output_type": "stream",
     "text": [
      "Found 0 cross-chain bonds in CD28_general.pdb\n",
      "[]\n",
      "Found 0 cross-chain bonds in CD28_general_fixed.pdb\n"
     ]
    },
    {
     "ename": "IndexError",
     "evalue": "list index out of range",
     "output_type": "error",
     "traceback": [
      "\u001b[0;31m---------------------------------------------------------------------------\u001b[0m",
      "\u001b[0;31mIndexError\u001b[0m                                Traceback (most recent call last)",
      "Cell \u001b[0;32mIn[5], line 37\u001b[0m\n\u001b[1;32m     35\u001b[0m cross_chain_bonds \u001b[38;5;241m=\u001b[39m find_cross_chain_bonds(\u001b[38;5;124m'\u001b[39m\u001b[38;5;124mCD28_general_fixed.pdb\u001b[39m\u001b[38;5;124m'\u001b[39m)\n\u001b[1;32m     36\u001b[0m \u001b[38;5;28mprint\u001b[39m(\u001b[38;5;124mf\u001b[39m\u001b[38;5;124m'\u001b[39m\u001b[38;5;124mFound \u001b[39m\u001b[38;5;132;01m{\u001b[39;00m\u001b[38;5;28mlen\u001b[39m(cross_chain_bonds)\u001b[38;5;132;01m}\u001b[39;00m\u001b[38;5;124m cross-chain bonds in CD28_general_fixed.pdb\u001b[39m\u001b[38;5;124m'\u001b[39m)\n\u001b[0;32m---> 37\u001b[0m \u001b[38;5;28mprint\u001b[39m(\u001b[43mcross_chain_bonds\u001b[49m\u001b[43m[\u001b[49m\u001b[38;5;241;43m0\u001b[39;49m\u001b[43m]\u001b[49m)\n\u001b[1;32m     39\u001b[0m cross_chain_bonds \u001b[38;5;241m=\u001b[39m find_cross_chain_bonds(\u001b[38;5;124m'\u001b[39m\u001b[38;5;124mCD28_general_solvated.pdb\u001b[39m\u001b[38;5;124m'\u001b[39m)\n\u001b[1;32m     40\u001b[0m \u001b[38;5;28mprint\u001b[39m(\u001b[38;5;124mf\u001b[39m\u001b[38;5;124m'\u001b[39m\u001b[38;5;124mFound \u001b[39m\u001b[38;5;132;01m{\u001b[39;00m\u001b[38;5;28mlen\u001b[39m(cross_chain_bonds)\u001b[38;5;132;01m}\u001b[39;00m\u001b[38;5;124m cross-chain bonds in CD28_general_solvated.pdb\u001b[39m\u001b[38;5;124m'\u001b[39m)\n",
      "\u001b[0;31mIndexError\u001b[0m: list index out of range"
     ]
    }
   ],
   "source": [
    "import re\n",
    "from openmm.app import PDBFile\n",
    "\n",
    "def find_cross_chain_bonds(pdf_file):\n",
    "    \"\"\"Find bonds between atoms in different chains of a PDB structure.\n",
    "    \n",
    "    Parameters\n",
    "    ----------\n",
    "    pdf_file : str\n",
    "        Path to the PDB file to analyze\n",
    "        \n",
    "    Returns\n",
    "    -------\n",
    "    list\n",
    "        List of bonds that connect atoms in different chains\n",
    "    \"\"\"\n",
    "    pdf = PDBFile(pdf_file)\n",
    "    cross_chain_bonds = []\n",
    "    \n",
    "    for bond in pdf.topology.bonds():\n",
    "        str_atom1 = str(bond.atom1)\n",
    "        str_atom2 = str(bond.atom2)\n",
    "        # get the chain number using regex <Atom 6 (C) of chain 0 residue 0 (THR)> <Atom 4 (CA) of chain 0 residue 0 (THR)>\n",
    "        chain_atom1 = re.search(r'chain (\\d+)', str_atom1).group(1)\n",
    "        chain_atom2 = re.search(r'chain (\\d+)', str_atom2).group(1)\n",
    "        if chain_atom1 != chain_atom2:\n",
    "            cross_chain_bonds.append(bond)\n",
    "\n",
    "    return cross_chain_bonds\n",
    "\n",
    "cross_chain_bonds = find_cross_chain_bonds('CD28_general.pdb')\n",
    "print(f'Found {len(cross_chain_bonds)} cross-chain bonds in CD28_general.pdb')\n",
    "print(cross_chain_bonds)\n",
    "\n",
    "cross_chain_bonds = find_cross_chain_bonds('CD28_general_fixed.pdb')\n",
    "print(f'Found {len(cross_chain_bonds)} cross-chain bonds in CD28_general_fixed.pdb')\n",
    "print(cross_chain_bonds[0])\n",
    "\n",
    "cross_chain_bonds = find_cross_chain_bonds('CD28_general_solvated.pdb')\n",
    "print(f'Found {len(cross_chain_bonds)} cross-chain bonds in CD28_general_solvated.pdb')\n",
    "print(cross_chain_bonds[0])\n",
    "\n"
   ]
  },
  {
   "cell_type": "code",
   "execution_count": 38,
   "metadata": {},
   "outputs": [
    {
     "name": "stdout",
     "output_type": "stream",
     "text": [
      "Found 0 cross-chain bonds in ../../data/241010_FoldingUponBinding/input/A-synuclein/A-synuclein_alpha.pdb\n",
      "Found 0 cross-chain bonds in ../../data/241010_FoldingUponBinding/input/A-synuclein/A-synuclein_general.pdb\n",
      "Found 0 cross-chain bonds in ../../data/241010_FoldingUponBinding/input/CD28/CD28_alpha.pdb\n",
      "Found 0 cross-chain bonds in ../../data/241010_FoldingUponBinding/input/CD28/CD28_beta.pdb\n",
      "Found 0 cross-chain bonds in ../../data/241010_FoldingUponBinding/input/CD28/CD28_general.pdb\n",
      "Found 0 cross-chain bonds in ../../data/241010_FoldingUponBinding/input/CD28/CD28_partial.pdb\n",
      "Found 0 cross-chain bonds in ../../data/241010_FoldingUponBinding/input/p53/p53_1.pdb\n",
      "Found 0 cross-chain bonds in ../../data/241010_FoldingUponBinding/input/p53/p53_2.pdb\n",
      "Found 0 cross-chain bonds in ../../data/241010_FoldingUponBinding/input/p53/p53_end.pdb\n",
      "Found 0 cross-chain bonds in ../../data/241010_FoldingUponBinding/input/SUMO/sumo1.pdb\n",
      "Found 0 cross-chain bonds in ../../data/241010_FoldingUponBinding/input/SUMO/sumo1c.pdb\n"
     ]
    }
   ],
   "source": [
    "original_pdbs = [\n",
    "    '../../data/241010_FoldingUponBinding/input/A-synuclein/A-synuclein_alpha.pdb',\n",
    "    '../../data/241010_FoldingUponBinding/input/A-synuclein/A-synuclein_general.pdb',\n",
    "    '../../data/241010_FoldingUponBinding/input/CD28/CD28_alpha.pdb',\n",
    "    '../../data/241010_FoldingUponBinding/input/CD28/CD28_beta.pdb',\n",
    "    '../../data/241010_FoldingUponBinding/input/CD28/CD28_general.pdb',\n",
    "    '../../data/241010_FoldingUponBinding/input/CD28/CD28_partial.pdb',\n",
    "    '../../data/241010_FoldingUponBinding/input/p53/p53_1.pdb',\n",
    "    '../../data/241010_FoldingUponBinding/input/p53/p53_2.pdb',\n",
    "    '../../data/241010_FoldingUponBinding/input/p53/p53_end.pdb',\n",
    "    '../../data/241010_FoldingUponBinding/input/SUMO/sumo1.pdb',\n",
    "    '../../data/241010_FoldingUponBinding/input/SUMO/sumo1c.pdb',\n",
    "]\n",
    "\n",
    "for pdb_file in original_pdbs:\n",
    "    cross_chain_bonds = find_cross_chain_bonds(pdb_file)\n",
    "    print(f'Found {len(cross_chain_bonds)} cross-chain bonds in {pdb_file}')"
   ]
  },
  {
   "cell_type": "code",
   "execution_count": 42,
   "metadata": {},
   "outputs": [
    {
     "name": "stdout",
     "output_type": "stream",
     "text": [
      "Found 0 cross-chain bonds in ../../data/241010_FoldingUponBinding/output/241029/A-synuclein/alpha_1/A-synuclein_alpha_fixed.pdb\n",
      "Found 0 cross-chain bonds in ../../data/241010_FoldingUponBinding/output/241029/A-synuclein/general_1/A-synuclein_general_fixed.pdb\n",
      "Found 1 cross-chain bonds in ../../data/241010_FoldingUponBinding/output/241029/CD28/alpha_1/CD28_alpha_fixed.pdb\n",
      "Found 1 cross-chain bonds in ../../data/241010_FoldingUponBinding/output/241029/CD28/beta_1/CD28_beta_fixed.pdb\n",
      "Found 1 cross-chain bonds in ../../data/241010_FoldingUponBinding/output/241029/CD28/general_1/CD28_general_fixed.pdb\n",
      "Found 1 cross-chain bonds in ../../data/241010_FoldingUponBinding/output/241029/CD28/partial_1/CD28_partial_fixed.pdb\n",
      "Found 0 cross-chain bonds in ../../data/241010_FoldingUponBinding/output/241029/p53/1_1/p53_1_fixed.pdb\n",
      "Found 0 cross-chain bonds in ../../data/241010_FoldingUponBinding/output/241029/p53/2_1/p53_2_fixed.pdb\n",
      "Found 0 cross-chain bonds in ../../data/241010_FoldingUponBinding/output/241029/p53/end_1/p53_end_fixed.pdb\n",
      "Found 0 cross-chain bonds in ../../data/241010_FoldingUponBinding/output/241029/sumo/1_1/sumo_1_fixed.pdb\n",
      "Found 0 cross-chain bonds in ../../data/241010_FoldingUponBinding/output/241029/sumo/1c_1/sumo_1c_fixed.pdb\n"
     ]
    }
   ],
   "source": [
    "fixed_pdbs = [\n",
    "    '../../data/241010_FoldingUponBinding/output/241029/A-synuclein/alpha_1/A-synuclein_alpha_fixed.pdb',\n",
    "    '../../data/241010_FoldingUponBinding/output/241029/A-synuclein/general_1/A-synuclein_general_fixed.pdb',\n",
    "    '../../data/241010_FoldingUponBinding/output/241029/CD28/alpha_1/CD28_alpha_fixed.pdb',\n",
    "    '../../data/241010_FoldingUponBinding/output/241029/CD28/beta_1/CD28_beta_fixed.pdb',\n",
    "    '../../data/241010_FoldingUponBinding/output/241029/CD28/general_1/CD28_general_fixed.pdb',\n",
    "    '../../data/241010_FoldingUponBinding/output/241029/CD28/partial_1/CD28_partial_fixed.pdb',\n",
    "    '../../data/241010_FoldingUponBinding/output/241029/p53/1_1/p53_1_fixed.pdb',\n",
    "    '../../data/241010_FoldingUponBinding/output/241029/p53/2_1/p53_2_fixed.pdb',\n",
    "    '../../data/241010_FoldingUponBinding/output/241029/p53/end_1/p53_end_fixed.pdb',\n",
    "    '../../data/241010_FoldingUponBinding/output/241029/sumo/1_1/sumo_1_fixed.pdb',\n",
    "    '../../data/241010_FoldingUponBinding/output/241029/sumo/1c_1/sumo_1c_fixed.pdb',\n",
    "]\n",
    "for pdb_file in fixed_pdbs:\n",
    "    cross_chain_bonds = find_cross_chain_bonds(pdb_file)\n",
    "    print(f'Found {len(cross_chain_bonds)} cross-chain bonds in {pdb_file}')\n"
   ]
  },
  {
   "cell_type": "code",
   "execution_count": 3,
   "metadata": {},
   "outputs": [
    {
     "name": "stderr",
     "output_type": "stream",
     "text": [
      "/home/jakub/anaconda3/envs/openmm/lib/python3.12/site-packages/Bio/PDB/PDBParser.py:384: PDBConstructionWarning: Ignoring unrecognized record 'END' at line 1357\n",
      "  warnings.warn(\n",
      "/home/jakub/anaconda3/envs/openmm/lib/python3.12/site-packages/Bio/PDB/PDBParser.py:384: PDBConstructionWarning: Ignoring unrecognized record 'END' at line 1355\n",
      "  warnings.warn(\n",
      "/home/jakub/anaconda3/envs/openmm/lib/python3.12/site-packages/Bio/PDB/PDBParser.py:384: PDBConstructionWarning: Ignoring unrecognized record 'END' at line 1373\n",
      "  warnings.warn(\n",
      "/home/jakub/anaconda3/envs/openmm/lib/python3.12/site-packages/Bio/PDB/PDBParser.py:384: PDBConstructionWarning: Ignoring unrecognized record 'END' at line 1393\n",
      "  warnings.warn(\n",
      "/home/jakub/anaconda3/envs/openmm/lib/python3.12/site-packages/Bio/PDB/PDBParser.py:384: PDBConstructionWarning: Ignoring unrecognized record 'END' at line 2052\n",
      "  warnings.warn(\n",
      "/home/jakub/anaconda3/envs/openmm/lib/python3.12/site-packages/Bio/PDB/PDBParser.py:384: PDBConstructionWarning: Ignoring unrecognized record 'END' at line 2033\n",
      "  warnings.warn(\n",
      "/home/jakub/anaconda3/envs/openmm/lib/python3.12/site-packages/Bio/PDB/PDBParser.py:384: PDBConstructionWarning: Ignoring unrecognized record 'END' at line 2034\n",
      "  warnings.warn(\n",
      "/home/jakub/anaconda3/envs/openmm/lib/python3.12/site-packages/Bio/PDB/PDBParser.py:384: PDBConstructionWarning: Ignoring unrecognized record 'END' at line 1078\n",
      "  warnings.warn(\n",
      "/home/jakub/anaconda3/envs/openmm/lib/python3.12/site-packages/Bio/PDB/PDBParser.py:384: PDBConstructionWarning: Ignoring unrecognized record 'END' at line 1080\n",
      "  warnings.warn(\n"
     ]
    }
   ],
   "source": [
    "from src.fixer import fixer\n",
    "\n",
    "original_pdbs = [\n",
    "    '../../data/241010_FoldingUponBinding/input/A-synuclein/A-synuclein_alpha.pdb',\n",
    "    '../../data/241010_FoldingUponBinding/input/A-synuclein/A-synuclein_general.pdb',\n",
    "    '../../data/241010_FoldingUponBinding/input/CD28/CD28_alpha.pdb',\n",
    "    '../../data/241010_FoldingUponBinding/input/CD28/CD28_beta.pdb',\n",
    "    '../../data/241010_FoldingUponBinding/input/CD28/CD28_general.pdb',\n",
    "    '../../data/241010_FoldingUponBinding/input/CD28/CD28_partial.pdb',\n",
    "    '../../data/241010_FoldingUponBinding/input/p53/p53_1.pdb',\n",
    "    '../../data/241010_FoldingUponBinding/input/p53/p53_2.pdb',\n",
    "    '../../data/241010_FoldingUponBinding/input/p53/p53_end.pdb',\n",
    "    '../../data/241010_FoldingUponBinding/input/SUMO/sumo1.pdb',\n",
    "    '../../data/241010_FoldingUponBinding/input/SUMO/sumo1c.pdb',\n",
    "]\n",
    "\n",
    "split_chains = [False, False, False, False, False, False, True, True, True, True, True]\n",
    "\n",
    "for pdb_file, split_chain in zip(original_pdbs, split_chains):\n",
    "    fixer(pdb_file, './', split_chains=split_chain)"
   ]
  },
  {
   "cell_type": "code",
   "execution_count": 7,
   "metadata": {},
   "outputs": [
    {
     "name": "stdout",
     "output_type": "stream",
     "text": [
      "Found 0 cross-chain bonds in A-synuclein_alpha_fixed.pdb\n",
      "Found 0 cross-chain bonds in A-synuclein_general_fixed.pdb\n",
      "Found 0 cross-chain bonds in CD28_alpha_fixed.pdb\n",
      "Found 0 cross-chain bonds in CD28_beta_fixed.pdb\n",
      "Found 0 cross-chain bonds in CD28_general_fixed.pdb\n",
      "Found 0 cross-chain bonds in CD28_partial_fixed.pdb\n",
      "Found 0 cross-chain bonds in p53_1_fixed.pdb\n",
      "Found 0 cross-chain bonds in p53_2_fixed.pdb\n",
      "Found 0 cross-chain bonds in p53_end_fixed.pdb\n",
      "Found 0 cross-chain bonds in sumo1_fixed.pdb\n",
      "Found 0 cross-chain bonds in sumo1c_fixed.pdb\n"
     ]
    }
   ],
   "source": [
    "\n",
    "fixed_pdbs = [\n",
    "    'A-synuclein_alpha_fixed.pdb',\n",
    "    'A-synuclein_general_fixed.pdb',\n",
    "    'CD28_alpha_fixed.pdb',\n",
    "    'CD28_beta_fixed.pdb',\n",
    "    'CD28_general_fixed.pdb',\n",
    "    'CD28_partial_fixed.pdb',\n",
    "    'p53_1_fixed.pdb',\n",
    "    'p53_2_fixed.pdb',\n",
    "    'p53_end_fixed.pdb',\n",
    "    'sumo1_fixed.pdb',\n",
    "    'sumo1c_fixed.pdb',\n",
    "]\n",
    "for pdb_file in fixed_pdbs:\n",
    "    cross_chain_bonds = find_cross_chain_bonds(pdb_file)\n",
    "    print(f'Found {len(cross_chain_bonds)} cross-chain bonds in {pdb_file}')\n"
   ]
  },
  {
   "cell_type": "code",
   "execution_count": null,
   "metadata": {},
   "outputs": [],
   "source": []
  }
 ],
 "metadata": {
  "kernelspec": {
   "display_name": "openmm",
   "language": "python",
   "name": "python3"
  },
  "language_info": {
   "codemirror_mode": {
    "name": "ipython",
    "version": 3
   },
   "file_extension": ".py",
   "mimetype": "text/x-python",
   "name": "python",
   "nbconvert_exporter": "python",
   "pygments_lexer": "ipython3",
   "version": "3.12.4"
  }
 },
 "nbformat": 4,
 "nbformat_minor": 2
}
