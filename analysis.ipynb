{
 "cells": [
  {
   "cell_type": "code",
   "execution_count": 23,
   "metadata": {},
   "outputs": [],
   "source": [
    "import pandas as pd\n",
    "import matplotlib.pyplot as plt\n",
    "import os\n",
    "\n",
    "def plot_system_data(system, window=100, figsize=(10, 8)):\n",
    "    \"\"\"\n",
    "    Plot and save time series data with moving averages for a given system.\n",
    "    \n",
    "    :param system: String identifier for the system (used for file naming)\n",
    "    :param window: Size of the moving average window\n",
    "    :param figsize: Size of the figure (width, height)\n",
    "    \"\"\"\n",
    "    def plot_with_moving_average(ax, df, x_column, y_column):\n",
    "        \"\"\"\n",
    "        Plot original data and its moving average on a given axis.\n",
    "        \"\"\"\n",
    "        ax.plot(df[x_column], df[y_column], label='Original', alpha=0.5)\n",
    "        rolling_mean = df[y_column].rolling(window=window, center=True, min_periods=1).mean()\n",
    "        ax.plot(df[x_column], rolling_mean, label=f'Moving Average (window={window})', color='red')\n",
    "        ax.set_xlabel(x_column)\n",
    "        ax.set_ylabel(y_column)\n",
    "        ax.set_title(f'{y_column} Over Time')\n",
    "        ax.legend()\n",
    "\n",
    "    # Read the CSV file\n",
    "    file_path = f\"output/{system}.out\"\n",
    "    try:\n",
    "        df = pd.read_csv(file_path, sep=',')\n",
    "    except FileNotFoundError:\n",
    "        print(f\"Error: File {file_path} not found.\")\n",
    "        return\n",
    "\n",
    "    # Get column names for indices 3, 4, 5, 6\n",
    "    columns_to_plot = df.columns[3:7]\n",
    "\n",
    "    # Create a single figure with four subfigures\n",
    "    fig, axs = plt.subplots(2, 2, figsize=figsize)\n",
    "    fig.suptitle(f'System: {system}', fontsize=16)\n",
    "\n",
    "    # Flatten the 2x2 array of axes for easier iteration\n",
    "    axs = axs.flatten()\n",
    "\n",
    "    # Plot for each specified column\n",
    "    for i, column in enumerate(columns_to_plot):\n",
    "        plot_with_moving_average(axs[i], df, 'Time (ps)', column)\n",
    "\n",
    "    plt.tight_layout()\n",
    "    plt.subplots_adjust(top=0.95)  # Adjust to prevent title overlap\n",
    "\n",
    "    # Save the figure\n",
    "    output_dir = \"output\"\n",
    "    if not os.path.exists(output_dir):\n",
    "        os.makedirs(output_dir)\n",
    "    output_file = os.path.join(output_dir, f\"{system}_plot.png\")\n",
    "    plt.savefig(output_file, dpi=300, bbox_inches='tight')\n",
    "    plt.close()  # Close the figure to free up memory\n",
    "\n",
    "    print(f\"Plot saved as {output_file}\")"
   ]
  },
  {
   "cell_type": "code",
   "execution_count": 24,
   "metadata": {},
   "outputs": [
    {
     "name": "stdout",
     "output_type": "stream",
     "text": [
      "Plot saved as output/S1_Best_A_plot.png\n",
      "Error: File output/S1_Best_AB.out not found.\n",
      "Plot saved as output/S2_Best_A_plot.png\n",
      "Plot saved as output/S2_Best_AB_plot.png\n"
     ]
    }
   ],
   "source": [
    "plot_system_data(\"S1_Best_A\")\n",
    "plot_system_data(\"S1_Best_AB\")\n",
    "plot_system_data(\"S2_Best_A\")\n",
    "plot_system_data(\"S2_Best_AB\")"
   ]
  },
  {
   "cell_type": "code",
   "execution_count": null,
   "metadata": {},
   "outputs": [],
   "source": [
    "# PyMOL pngs to GIF\n",
    "import imageio\n",
    "\n",
    "\n"
   ]
  }
 ],
 "metadata": {
  "kernelspec": {
   "display_name": "rna-pele",
   "language": "python",
   "name": "python3"
  },
  "language_info": {
   "codemirror_mode": {
    "name": "ipython",
    "version": 3
   },
   "file_extension": ".py",
   "mimetype": "text/x-python",
   "name": "python",
   "nbconvert_exporter": "python",
   "pygments_lexer": "ipython3",
   "version": "3.12.4"
  }
 },
 "nbformat": 4,
 "nbformat_minor": 2
}
